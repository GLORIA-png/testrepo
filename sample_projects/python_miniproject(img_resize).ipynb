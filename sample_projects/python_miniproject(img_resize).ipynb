{
  "nbformat": 4,
  "nbformat_minor": 0,
  "metadata": {
    "colab": {
      "provenance": []
    },
    "kernelspec": {
      "name": "python3",
      "display_name": "Python 3"
    },
    "language_info": {
      "name": "python"
    }
  },
  "cells": [
    {
      "cell_type": "code",
      "source": [
        "from PIL import Image\n",
        "\n",
        "def img_resize(input_img, output_img, new_size):\n",
        "\n",
        "    original = Image.open(input_img)\n",
        "    resized = original.resize(new_size)\n",
        "    resized.save(output_img)\n",
        "\n",
        "input_img = '/content/messi.webp'\n",
        "output_img = 'output.jpg'\n",
        "new_size = (200, 200)\n",
        "\n",
        "img_resize(input_img, output_img, new_size)\n"
      ],
      "metadata": {
        "id": "iBFGyD8_JDxl"
      },
      "execution_count": null,
      "outputs": []
    }
  ]
}