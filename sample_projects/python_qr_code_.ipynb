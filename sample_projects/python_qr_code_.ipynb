{
  "nbformat": 4,
  "nbformat_minor": 0,
  "metadata": {
    "colab": {
      "provenance": []
    },
    "kernelspec": {
      "name": "python3",
      "display_name": "Python 3"
    },
    "language_info": {
      "name": "python"
    }
  },
  "cells": [
    {
      "cell_type": "code",
      "source": [
        "import qrcode\n",
        "import image"
      ],
      "metadata": {
        "id": "gmgveCBFJKiN"
      },
      "execution_count": null,
      "outputs": []
    },
    {
      "cell_type": "code",
      "source": [
        "qr=qrcode.QRCode(\n",
        "    version=15,\n",
        "    box_size=20,\n",
        "    border=5\n",
        "\n",
        ")\n",
        "\n",
        "\n",
        "data=\"https://www.amazon.in/Apple-iPhone-Pro-Max-256/dp/B0CHWV2WYK/ref=sr_1_1_sspa?crid=3HM6AD7SKSDRL&dib=eyJ2IjoiMSJ9.OYvib3u__hXFvKmx0hKShzjRRIfjjmFaXv5uFRWFzmz-DovWgg4x9JRNdCR8IQsq_jwcwF-NB0gvyuGujRb1jZLQf5_Txp2BhXATylpjVAxDomn6acTnMuUh7bp-pF5y1Ls5MlmmwD-NvF2poDCXQXwgHas3hg7Q-cmrhdDDLF1DOds2gshMHWaiIY7NK_eOoDHbqL1Cjefl284b0BKul8TcQsTvWlBpu5Csej3iEVE.WMCoD9C_Gkx_xAKIRcnTmbUvK7FrrAmFTbr0DLi6GPo&dib_tag=se&keywords=iphone+15+pro+max&qid=1711079282&sprefix=iphone%2Caps%2C218&sr=8-1-spons&sp_csd=d2lkZ2V0TmFtZT1zcF9hdGY&psc=1\""
      ],
      "metadata": {
        "id": "PkSbaVgAJsma"
      },
      "execution_count": null,
      "outputs": []
    },
    {
      "cell_type": "code",
      "source": [
        "qr.add_data(data)\n",
        "qr.make(fit=True)\n",
        "img=qr.make_image(fill='black',back_color='white')\n",
        "img.save(\"test.png\")"
      ],
      "metadata": {
        "id": "IO3aLGcxLdkG"
      },
      "execution_count": null,
      "outputs": []
    },
    {
      "cell_type": "code",
      "source": [],
      "metadata": {
        "id": "n6EndH8tMOF1"
      },
      "execution_count": null,
      "outputs": []
    },
    {
      "cell_type": "code",
      "source": [],
      "metadata": {
        "id": "UDB9xnc7Pgrh"
      },
      "execution_count": null,
      "outputs": []
    }
  ]
}