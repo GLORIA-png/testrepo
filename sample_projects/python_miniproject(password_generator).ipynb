{
  "nbformat": 4,
  "nbformat_minor": 0,
  "metadata": {
    "colab": {
      "provenance": []
    },
    "kernelspec": {
      "name": "python3",
      "display_name": "Python 3"
    },
    "language_info": {
      "name": "python"
    }
  },
  "cells": [
    {
      "cell_type": "code",
      "execution_count": null,
      "metadata": {
        "id": "koukHtSlib65"
      },
      "outputs": [],
      "source": [
        "import random\n",
        "import string"
      ]
    },
    {
      "cell_type": "code",
      "source": [
        "def pass_generator(length,uppercse,lowercase,numbers,symbols):\n",
        "  characters=''\n",
        "  if uppercase:\n",
        "    characters+=string.ascii_uppercase\n",
        "  if lowercase:\n",
        "    characters+=string.ascii_lowercase\n",
        "  if numbers:\n",
        "    characters+=string.digits\n",
        "  if symbols:\n",
        "    characters+=string.punctuation\n",
        "  if not characters:\n",
        "    print(\"Error.no charaters found \")\n",
        "  password=''.join(random.choice(characters) for ln in range(length))\n",
        "  return password\n",
        "\n",
        "\n",
        "length=int(input(\"enter a number: \"))\n",
        "uppercase=input(\"do you want uppercase yes/no: \").lower()=='yes'\n",
        "lowercase=input(\"do you want lowercase yes/no: \").lower()=='yes'\n",
        "numbers=input(\"do you want numbers yes/no: \").lower()=='yes'\n",
        "symbols=input(\"do you want symbols yes/no: \").lower()=='yes'\n",
        "\n",
        "password=pass_generator(length,uppercase,lowercase,numbers,symbols)\n",
        "print(password)"
      ],
      "metadata": {
        "colab": {
          "base_uri": "https://localhost:8080/"
        },
        "id": "aI3O35B-mbWR",
        "outputId": "cd2b0784-40e7-4f5a-9488-b7c0d4128901"
      },
      "execution_count": null,
      "outputs": [
        {
          "output_type": "stream",
          "name": "stdout",
          "text": [
            "enter a number: 12\n",
            "do you want uppercase yes/no: yes\n",
            "do you want lowercase yes/no: yes\n",
            "do you want numbers yes/no: yes\n",
            "do you want symbols yes/no: yes\n",
            "s-'dyAo[Q0UQ\n"
          ]
        }
      ]
    },
    {
      "cell_type": "code",
      "source": [],
      "metadata": {
        "id": "FrHvYSJEojSp"
      },
      "execution_count": null,
      "outputs": []
    }
  ]
}