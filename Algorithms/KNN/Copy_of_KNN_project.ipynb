{
  "nbformat": 4,
  "nbformat_minor": 0,
  "metadata": {
    "colab": {
      "provenance": []
    },
    "kernelspec": {
      "name": "python3",
      "display_name": "Python 3"
    },
    "language_info": {
      "name": "python"
    }
  },
  "cells": [
    {
      "cell_type": "code",
      "execution_count": null,
      "metadata": {
        "id": "hh-NMakxOR_e"
      },
      "outputs": [],
      "source": [
        "import numpy as np\n",
        "import pandas as pd"
      ]
    },
    {
      "cell_type": "code",
      "source": [
        "data=pd.read_csv(\"/content/Social_Network_Ads.csv\")"
      ],
      "metadata": {
        "id": "m24HpeLhOYHp"
      },
      "execution_count": null,
      "outputs": []
    },
    {
      "cell_type": "code",
      "source": [
        "data.head()"
      ],
      "metadata": {
        "colab": {
          "base_uri": "https://localhost:8080/",
          "height": 206
        },
        "id": "IHbxkQ1vPB9l",
        "outputId": "664595f6-2aa0-435a-ace8-639f767ed479"
      },
      "execution_count": null,
      "outputs": [
        {
          "output_type": "execute_result",
          "data": {
            "text/plain": [
              "   Age  EstimatedSalary  Purchased\n",
              "0   19            19000          0\n",
              "1   35            20000          0\n",
              "2   26            43000          0\n",
              "3   27            57000          0\n",
              "4   19            76000          0"
            ],
            "text/html": [
              "\n",
              "  <div id=\"df-a343665b-e188-4f68-9923-f3309ea79338\" class=\"colab-df-container\">\n",
              "    <div>\n",
              "<style scoped>\n",
              "    .dataframe tbody tr th:only-of-type {\n",
              "        vertical-align: middle;\n",
              "    }\n",
              "\n",
              "    .dataframe tbody tr th {\n",
              "        vertical-align: top;\n",
              "    }\n",
              "\n",
              "    .dataframe thead th {\n",
              "        text-align: right;\n",
              "    }\n",
              "</style>\n",
              "<table border=\"1\" class=\"dataframe\">\n",
              "  <thead>\n",
              "    <tr style=\"text-align: right;\">\n",
              "      <th></th>\n",
              "      <th>Age</th>\n",
              "      <th>EstimatedSalary</th>\n",
              "      <th>Purchased</th>\n",
              "    </tr>\n",
              "  </thead>\n",
              "  <tbody>\n",
              "    <tr>\n",
              "      <th>0</th>\n",
              "      <td>19</td>\n",
              "      <td>19000</td>\n",
              "      <td>0</td>\n",
              "    </tr>\n",
              "    <tr>\n",
              "      <th>1</th>\n",
              "      <td>35</td>\n",
              "      <td>20000</td>\n",
              "      <td>0</td>\n",
              "    </tr>\n",
              "    <tr>\n",
              "      <th>2</th>\n",
              "      <td>26</td>\n",
              "      <td>43000</td>\n",
              "      <td>0</td>\n",
              "    </tr>\n",
              "    <tr>\n",
              "      <th>3</th>\n",
              "      <td>27</td>\n",
              "      <td>57000</td>\n",
              "      <td>0</td>\n",
              "    </tr>\n",
              "    <tr>\n",
              "      <th>4</th>\n",
              "      <td>19</td>\n",
              "      <td>76000</td>\n",
              "      <td>0</td>\n",
              "    </tr>\n",
              "  </tbody>\n",
              "</table>\n",
              "</div>\n",
              "    <div class=\"colab-df-buttons\">\n",
              "\n",
              "  <div class=\"colab-df-container\">\n",
              "    <button class=\"colab-df-convert\" onclick=\"convertToInteractive('df-a343665b-e188-4f68-9923-f3309ea79338')\"\n",
              "            title=\"Convert this dataframe to an interactive table.\"\n",
              "            style=\"display:none;\">\n",
              "\n",
              "  <svg xmlns=\"http://www.w3.org/2000/svg\" height=\"24px\" viewBox=\"0 -960 960 960\">\n",
              "    <path d=\"M120-120v-720h720v720H120Zm60-500h600v-160H180v160Zm220 220h160v-160H400v160Zm0 220h160v-160H400v160ZM180-400h160v-160H180v160Zm440 0h160v-160H620v160ZM180-180h160v-160H180v160Zm440 0h160v-160H620v160Z\"/>\n",
              "  </svg>\n",
              "    </button>\n",
              "\n",
              "  <style>\n",
              "    .colab-df-container {\n",
              "      display:flex;\n",
              "      gap: 12px;\n",
              "    }\n",
              "\n",
              "    .colab-df-convert {\n",
              "      background-color: #E8F0FE;\n",
              "      border: none;\n",
              "      border-radius: 50%;\n",
              "      cursor: pointer;\n",
              "      display: none;\n",
              "      fill: #1967D2;\n",
              "      height: 32px;\n",
              "      padding: 0 0 0 0;\n",
              "      width: 32px;\n",
              "    }\n",
              "\n",
              "    .colab-df-convert:hover {\n",
              "      background-color: #E2EBFA;\n",
              "      box-shadow: 0px 1px 2px rgba(60, 64, 67, 0.3), 0px 1px 3px 1px rgba(60, 64, 67, 0.15);\n",
              "      fill: #174EA6;\n",
              "    }\n",
              "\n",
              "    .colab-df-buttons div {\n",
              "      margin-bottom: 4px;\n",
              "    }\n",
              "\n",
              "    [theme=dark] .colab-df-convert {\n",
              "      background-color: #3B4455;\n",
              "      fill: #D2E3FC;\n",
              "    }\n",
              "\n",
              "    [theme=dark] .colab-df-convert:hover {\n",
              "      background-color: #434B5C;\n",
              "      box-shadow: 0px 1px 3px 1px rgba(0, 0, 0, 0.15);\n",
              "      filter: drop-shadow(0px 1px 2px rgba(0, 0, 0, 0.3));\n",
              "      fill: #FFFFFF;\n",
              "    }\n",
              "  </style>\n",
              "\n",
              "    <script>\n",
              "      const buttonEl =\n",
              "        document.querySelector('#df-a343665b-e188-4f68-9923-f3309ea79338 button.colab-df-convert');\n",
              "      buttonEl.style.display =\n",
              "        google.colab.kernel.accessAllowed ? 'block' : 'none';\n",
              "\n",
              "      async function convertToInteractive(key) {\n",
              "        const element = document.querySelector('#df-a343665b-e188-4f68-9923-f3309ea79338');\n",
              "        const dataTable =\n",
              "          await google.colab.kernel.invokeFunction('convertToInteractive',\n",
              "                                                    [key], {});\n",
              "        if (!dataTable) return;\n",
              "\n",
              "        const docLinkHtml = 'Like what you see? Visit the ' +\n",
              "          '<a target=\"_blank\" href=https://colab.research.google.com/notebooks/data_table.ipynb>data table notebook</a>'\n",
              "          + ' to learn more about interactive tables.';\n",
              "        element.innerHTML = '';\n",
              "        dataTable['output_type'] = 'display_data';\n",
              "        await google.colab.output.renderOutput(dataTable, element);\n",
              "        const docLink = document.createElement('div');\n",
              "        docLink.innerHTML = docLinkHtml;\n",
              "        element.appendChild(docLink);\n",
              "      }\n",
              "    </script>\n",
              "  </div>\n",
              "\n",
              "\n",
              "<div id=\"df-98ccc37f-4573-4319-8e0e-a395d4196ba2\">\n",
              "  <button class=\"colab-df-quickchart\" onclick=\"quickchart('df-98ccc37f-4573-4319-8e0e-a395d4196ba2')\"\n",
              "            title=\"Suggest charts\"\n",
              "            style=\"display:none;\">\n",
              "\n",
              "<svg xmlns=\"http://www.w3.org/2000/svg\" height=\"24px\"viewBox=\"0 0 24 24\"\n",
              "     width=\"24px\">\n",
              "    <g>\n",
              "        <path d=\"M19 3H5c-1.1 0-2 .9-2 2v14c0 1.1.9 2 2 2h14c1.1 0 2-.9 2-2V5c0-1.1-.9-2-2-2zM9 17H7v-7h2v7zm4 0h-2V7h2v10zm4 0h-2v-4h2v4z\"/>\n",
              "    </g>\n",
              "</svg>\n",
              "  </button>\n",
              "\n",
              "<style>\n",
              "  .colab-df-quickchart {\n",
              "      --bg-color: #E8F0FE;\n",
              "      --fill-color: #1967D2;\n",
              "      --hover-bg-color: #E2EBFA;\n",
              "      --hover-fill-color: #174EA6;\n",
              "      --disabled-fill-color: #AAA;\n",
              "      --disabled-bg-color: #DDD;\n",
              "  }\n",
              "\n",
              "  [theme=dark] .colab-df-quickchart {\n",
              "      --bg-color: #3B4455;\n",
              "      --fill-color: #D2E3FC;\n",
              "      --hover-bg-color: #434B5C;\n",
              "      --hover-fill-color: #FFFFFF;\n",
              "      --disabled-bg-color: #3B4455;\n",
              "      --disabled-fill-color: #666;\n",
              "  }\n",
              "\n",
              "  .colab-df-quickchart {\n",
              "    background-color: var(--bg-color);\n",
              "    border: none;\n",
              "    border-radius: 50%;\n",
              "    cursor: pointer;\n",
              "    display: none;\n",
              "    fill: var(--fill-color);\n",
              "    height: 32px;\n",
              "    padding: 0;\n",
              "    width: 32px;\n",
              "  }\n",
              "\n",
              "  .colab-df-quickchart:hover {\n",
              "    background-color: var(--hover-bg-color);\n",
              "    box-shadow: 0 1px 2px rgba(60, 64, 67, 0.3), 0 1px 3px 1px rgba(60, 64, 67, 0.15);\n",
              "    fill: var(--button-hover-fill-color);\n",
              "  }\n",
              "\n",
              "  .colab-df-quickchart-complete:disabled,\n",
              "  .colab-df-quickchart-complete:disabled:hover {\n",
              "    background-color: var(--disabled-bg-color);\n",
              "    fill: var(--disabled-fill-color);\n",
              "    box-shadow: none;\n",
              "  }\n",
              "\n",
              "  .colab-df-spinner {\n",
              "    border: 2px solid var(--fill-color);\n",
              "    border-color: transparent;\n",
              "    border-bottom-color: var(--fill-color);\n",
              "    animation:\n",
              "      spin 1s steps(1) infinite;\n",
              "  }\n",
              "\n",
              "  @keyframes spin {\n",
              "    0% {\n",
              "      border-color: transparent;\n",
              "      border-bottom-color: var(--fill-color);\n",
              "      border-left-color: var(--fill-color);\n",
              "    }\n",
              "    20% {\n",
              "      border-color: transparent;\n",
              "      border-left-color: var(--fill-color);\n",
              "      border-top-color: var(--fill-color);\n",
              "    }\n",
              "    30% {\n",
              "      border-color: transparent;\n",
              "      border-left-color: var(--fill-color);\n",
              "      border-top-color: var(--fill-color);\n",
              "      border-right-color: var(--fill-color);\n",
              "    }\n",
              "    40% {\n",
              "      border-color: transparent;\n",
              "      border-right-color: var(--fill-color);\n",
              "      border-top-color: var(--fill-color);\n",
              "    }\n",
              "    60% {\n",
              "      border-color: transparent;\n",
              "      border-right-color: var(--fill-color);\n",
              "    }\n",
              "    80% {\n",
              "      border-color: transparent;\n",
              "      border-right-color: var(--fill-color);\n",
              "      border-bottom-color: var(--fill-color);\n",
              "    }\n",
              "    90% {\n",
              "      border-color: transparent;\n",
              "      border-bottom-color: var(--fill-color);\n",
              "    }\n",
              "  }\n",
              "</style>\n",
              "\n",
              "  <script>\n",
              "    async function quickchart(key) {\n",
              "      const quickchartButtonEl =\n",
              "        document.querySelector('#' + key + ' button');\n",
              "      quickchartButtonEl.disabled = true;  // To prevent multiple clicks.\n",
              "      quickchartButtonEl.classList.add('colab-df-spinner');\n",
              "      try {\n",
              "        const charts = await google.colab.kernel.invokeFunction(\n",
              "            'suggestCharts', [key], {});\n",
              "      } catch (error) {\n",
              "        console.error('Error during call to suggestCharts:', error);\n",
              "      }\n",
              "      quickchartButtonEl.classList.remove('colab-df-spinner');\n",
              "      quickchartButtonEl.classList.add('colab-df-quickchart-complete');\n",
              "    }\n",
              "    (() => {\n",
              "      let quickchartButtonEl =\n",
              "        document.querySelector('#df-98ccc37f-4573-4319-8e0e-a395d4196ba2 button');\n",
              "      quickchartButtonEl.style.display =\n",
              "        google.colab.kernel.accessAllowed ? 'block' : 'none';\n",
              "    })();\n",
              "  </script>\n",
              "</div>\n",
              "\n",
              "    </div>\n",
              "  </div>\n"
            ],
            "application/vnd.google.colaboratory.intrinsic+json": {
              "type": "dataframe",
              "variable_name": "data",
              "summary": "{\n  \"name\": \"data\",\n  \"rows\": 400,\n  \"fields\": [\n    {\n      \"column\": \"Age\",\n      \"properties\": {\n        \"dtype\": \"number\",\n        \"std\": 10,\n        \"min\": 18,\n        \"max\": 60,\n        \"num_unique_values\": 43,\n        \"samples\": [\n          50,\n          39,\n          38\n        ],\n        \"semantic_type\": \"\",\n        \"description\": \"\"\n      }\n    },\n    {\n      \"column\": \"EstimatedSalary\",\n      \"properties\": {\n        \"dtype\": \"number\",\n        \"std\": 34096,\n        \"min\": 15000,\n        \"max\": 150000,\n        \"num_unique_values\": 117,\n        \"samples\": [\n          117000,\n          76000,\n          88000\n        ],\n        \"semantic_type\": \"\",\n        \"description\": \"\"\n      }\n    },\n    {\n      \"column\": \"Purchased\",\n      \"properties\": {\n        \"dtype\": \"number\",\n        \"std\": 0,\n        \"min\": 0,\n        \"max\": 1,\n        \"num_unique_values\": 2,\n        \"samples\": [\n          1,\n          0\n        ],\n        \"semantic_type\": \"\",\n        \"description\": \"\"\n      }\n    }\n  ]\n}"
            }
          },
          "metadata": {},
          "execution_count": 3
        }
      ]
    },
    {
      "cell_type": "code",
      "source": [
        "data.isnull().sum()"
      ],
      "metadata": {
        "colab": {
          "base_uri": "https://localhost:8080/"
        },
        "id": "mbnmHWJGPEHT",
        "outputId": "13f1ea86-0110-479b-f700-0963aef04e2b"
      },
      "execution_count": null,
      "outputs": [
        {
          "output_type": "execute_result",
          "data": {
            "text/plain": [
              "Age                0\n",
              "EstimatedSalary    0\n",
              "Purchased          0\n",
              "dtype: int64"
            ]
          },
          "metadata": {},
          "execution_count": 4
        }
      ]
    },
    {
      "cell_type": "code",
      "source": [
        "data.duplicated().sum()"
      ],
      "metadata": {
        "colab": {
          "base_uri": "https://localhost:8080/"
        },
        "id": "6p3_yUTOPI8h",
        "outputId": "f90060b4-0fb1-4c0e-d4ea-f2bd5a1a1212"
      },
      "execution_count": null,
      "outputs": [
        {
          "output_type": "execute_result",
          "data": {
            "text/plain": [
              "33"
            ]
          },
          "metadata": {},
          "execution_count": 6
        }
      ]
    },
    {
      "cell_type": "code",
      "source": [
        "data=data.drop_duplicates()"
      ],
      "metadata": {
        "id": "AKmgqlyvPRnP"
      },
      "execution_count": null,
      "outputs": []
    },
    {
      "cell_type": "code",
      "source": [
        "data.duplicated().sum()"
      ],
      "metadata": {
        "colab": {
          "base_uri": "https://localhost:8080/"
        },
        "id": "7sot_LN8Pdj-",
        "outputId": "b1d0d1c6-09f3-4825-ccd1-a0181c5dbd45"
      },
      "execution_count": null,
      "outputs": [
        {
          "output_type": "execute_result",
          "data": {
            "text/plain": [
              "0"
            ]
          },
          "metadata": {},
          "execution_count": 9
        }
      ]
    },
    {
      "cell_type": "code",
      "source": [
        "x=data.iloc[:,0:2].values"
      ],
      "metadata": {
        "id": "2ph2SZkuPk_M"
      },
      "execution_count": null,
      "outputs": []
    },
    {
      "cell_type": "code",
      "source": [
        "y=data.iloc[:,-1].values"
      ],
      "metadata": {
        "id": "JqiQKl9OPzZt"
      },
      "execution_count": null,
      "outputs": []
    },
    {
      "cell_type": "code",
      "source": [
        "y"
      ],
      "metadata": {
        "colab": {
          "base_uri": "https://localhost:8080/"
        },
        "id": "ISpws2-FPz-P",
        "outputId": "13809922-3af8-4884-b168-56a0169ebf05"
      },
      "execution_count": null,
      "outputs": [
        {
          "output_type": "execute_result",
          "data": {
            "text/plain": [
              "array([0, 0, 0, 0, 0, 0, 0, 1, 0, 0, 0, 0, 0, 0, 0, 0, 1, 1, 1, 1, 1, 1,\n",
              "       1, 1, 1, 1, 1, 0, 0, 0, 1, 0, 0, 0, 0, 0, 0, 0, 0, 0, 0, 0, 0, 0,\n",
              "       0, 0, 0, 1, 0, 0, 0, 0, 0, 0, 0, 0, 0, 0, 0, 0, 0, 1, 0, 0, 0, 0,\n",
              "       0, 0, 0, 0, 0, 0, 1, 0, 0, 0, 0, 0, 0, 0, 0, 0, 1, 0, 0, 0, 0, 0,\n",
              "       0, 0, 0, 0, 1, 0, 0, 0, 0, 0, 1, 0, 0, 0, 0, 0, 0, 0, 0, 0, 0, 0,\n",
              "       0, 0, 0, 0, 0, 0, 0, 0, 0, 0, 0, 0, 0, 0, 0, 0, 0, 0, 0, 0, 0, 0,\n",
              "       1, 0, 0, 0, 0, 0, 0, 0, 1, 0, 0, 0, 0, 0, 0, 0, 0, 0, 0, 0, 1, 1,\n",
              "       0, 0, 0, 0, 0, 0, 0, 1, 0, 0, 0, 0, 0, 0, 0, 0, 0, 0, 0, 0, 0, 1,\n",
              "       0, 0, 0, 0, 0, 0, 0, 0, 0, 0, 0, 0, 0, 0, 0, 1, 0, 1, 0, 1, 0, 1,\n",
              "       0, 1, 1, 0, 0, 0, 1, 0, 0, 0, 1, 0, 1, 1, 1, 0, 0, 1, 1, 0, 1, 1,\n",
              "       1, 1, 0, 1, 0, 0, 1, 1, 0, 1, 1, 0, 1, 1, 0, 1, 0, 0, 1, 1, 0, 1,\n",
              "       1, 1, 0, 1, 1, 1, 1, 0, 1, 0, 0, 1, 1, 1, 1, 1, 0, 1, 1, 1, 1, 0,\n",
              "       1, 1, 0, 1, 0, 1, 0, 1, 1, 1, 0, 0, 0, 1, 1, 0, 1, 1, 1, 1, 1, 0,\n",
              "       0, 0, 1, 1, 0, 0, 1, 1, 0, 1, 1, 0, 1, 0, 1, 1, 1, 1, 0, 0, 1, 1,\n",
              "       0, 1, 0, 1, 0, 1, 0, 0, 1, 1, 0, 1, 1, 0, 1, 1, 0, 1, 0, 1, 0, 1,\n",
              "       1, 1, 1, 1, 1, 1, 0, 1, 1, 1, 1, 1, 1, 1, 0, 1, 1, 0, 0, 1, 1, 0,\n",
              "       1, 1, 1, 1, 1, 1, 1, 1, 1, 0, 1, 1, 1, 0, 1])"
            ]
          },
          "metadata": {},
          "execution_count": 15
        }
      ]
    },
    {
      "cell_type": "code",
      "source": [
        "from sklearn.model_selection import  train_test_split\n",
        "x_train,x_test,y_train,y_test=train_test_split(x,y,test_size=0.20)"
      ],
      "metadata": {
        "id": "zJab7pJbQLZv"
      },
      "execution_count": null,
      "outputs": []
    },
    {
      "cell_type": "code",
      "source": [
        "x_train.shape"
      ],
      "metadata": {
        "colab": {
          "base_uri": "https://localhost:8080/"
        },
        "id": "f9HolD3YRTIp",
        "outputId": "82eb326e-3449-4263-a0cd-0b57accb9d69"
      },
      "execution_count": null,
      "outputs": [
        {
          "output_type": "execute_result",
          "data": {
            "text/plain": [
              "(293, 2)"
            ]
          },
          "metadata": {},
          "execution_count": 17
        }
      ]
    },
    {
      "cell_type": "code",
      "source": [
        "x_test.shape"
      ],
      "metadata": {
        "colab": {
          "base_uri": "https://localhost:8080/"
        },
        "id": "hMcBDTyVRaE_",
        "outputId": "14c3549f-5d19-4414-a95b-b016782a5a1a"
      },
      "execution_count": null,
      "outputs": [
        {
          "output_type": "execute_result",
          "data": {
            "text/plain": [
              "(74, 2)"
            ]
          },
          "metadata": {},
          "execution_count": 18
        }
      ]
    },
    {
      "cell_type": "code",
      "source": [
        "from sklearn.preprocessing import StandardScaler\n",
        "sc= StandardScaler()"
      ],
      "metadata": {
        "id": "LOMT8npKRcRb"
      },
      "execution_count": null,
      "outputs": []
    },
    {
      "cell_type": "code",
      "source": [
        "x_train=sc.fit_transform(x_train)\n",
        "x_train"
      ],
      "metadata": {
        "colab": {
          "base_uri": "https://localhost:8080/"
        },
        "id": "dB7upjZtR0ZO",
        "outputId": "7b78c061-3e12-4d9b-e1b8-9ceb663df495"
      },
      "execution_count": null,
      "outputs": [
        {
          "output_type": "execute_result",
          "data": {
            "text/plain": [
              "array([[ 0.23103554,  0.24327798],\n",
              "       [-0.42618207, -0.27913573],\n",
              "       [ 1.73324722, -0.27913573],\n",
              "       [ 0.88825315, -1.14982524],\n",
              "       [ 0.13714731,  0.09816306],\n",
              "       [-0.33229384, -0.77252645],\n",
              "       [ 1.63935899, -0.88861839],\n",
              "       [ 1.92102368, -0.65643452],\n",
              "       [-1.27117614, -0.42425065],\n",
              "       [ 0.79436492, -1.09177927],\n",
              "       [ 0.79436492,  0.27230096],\n",
              "       [-1.08339968, -1.58517   ],\n",
              "       [ 0.23103554, -0.65643452],\n",
              "       [-0.23840561,  0.09816306],\n",
              "       [-0.14451738,  0.85276064],\n",
              "       [ 2.01491191,  0.53350782],\n",
              "       [ 0.79436492,  1.37517435],\n",
              "       [-1.36506437, -1.20787121],\n",
              "       [ 0.418812  , -0.13402081],\n",
              "       [ 0.418812  , -0.16304379],\n",
              "       [-0.33229384,  1.31712838],\n",
              "       [-0.23840561,  0.79471467],\n",
              "       [ 0.418812  ,  0.99787556],\n",
              "       [ 1.07602961,  0.47546185],\n",
              "       [-0.23840561,  0.27230096],\n",
              "       [ 0.51270023,  1.72345015],\n",
              "       [ 0.88825315,  1.08494451],\n",
              "       [-0.80173499, -0.25011274],\n",
              "       [-0.23840561, -0.42425065],\n",
              "       [ 0.88825315, -0.77252645],\n",
              "       [-0.14451738,  1.60735822],\n",
              "       [ 0.51270023,  1.23005943],\n",
              "       [-0.5200703 ,  2.33293281],\n",
              "       [-0.89562322,  0.5625308 ],\n",
              "       [-0.05062915,  0.12718604],\n",
              "       [-0.98951145,  0.59155379],\n",
              "       [ 0.23103554, -0.25011274],\n",
              "       [-1.74061728, -1.46907806],\n",
              "       [-0.5200703 ,  1.37517435],\n",
              "       [ 0.88825315,  1.02689854],\n",
              "       [-0.61395853, -1.49810105],\n",
              "       [-0.98951145,  0.53350782],\n",
              "       [ 1.45158253, -1.03373331],\n",
              "       [ 0.51270023,  1.83954209],\n",
              "       [-0.23840561, -0.36620468],\n",
              "       [ 0.13714731, -0.80154944],\n",
              "       [-0.89562322,  0.27230096],\n",
              "       [ 1.07602961,  2.07172596],\n",
              "       [-1.27117614, -1.46907806],\n",
              "       [ 1.07602961,  0.12718604],\n",
              "       [-0.70784676,  0.27230096],\n",
              "       [-0.80173499,  0.30132395],\n",
              "       [ 1.82713545, -1.06275629],\n",
              "       [-0.42618207,  1.25908241],\n",
              "       [-0.61395853,  0.12718604],\n",
              "       [-0.05062915,  0.04011709],\n",
              "       [-1.4589526 , -1.49810105],\n",
              "       [-0.89562322,  0.50448483],\n",
              "       [-0.14451738, -0.27913573],\n",
              "       [-1.36506437, -1.44005508],\n",
              "       [ 1.45158253,  0.35936992],\n",
              "       [-0.23840561, -0.27913573],\n",
              "       [ 0.04325908, -0.13402081],\n",
              "       [-1.17728791,  0.30132395],\n",
              "       [-0.42618207, -1.20787121],\n",
              "       [-0.14451738,  1.6363812 ],\n",
              "       [ 0.418812  ,  0.15620903],\n",
              "       [ 0.13714731,  0.214255  ],\n",
              "       [-1.08339968,  0.30132395],\n",
              "       [-0.05062915,  2.21684088],\n",
              "       [-1.08339968,  0.33034693],\n",
              "       [-1.08339968, -1.55614701],\n",
              "       [-0.98951145, -1.44005508],\n",
              "       [ 0.418812  ,  0.09816306],\n",
              "       [ 1.73324722,  0.99787556],\n",
              "       [-1.17728791, -1.06275629],\n",
              "       [ 0.79436492,  0.76569169],\n",
              "       [-0.05062915, -0.5113196 ],\n",
              "       [ 0.88825315, -1.35298613],\n",
              "       [ 0.04325908,  0.30132395],\n",
              "       [ 0.13714731,  0.27230096],\n",
              "       [-1.17728791,  0.50448483],\n",
              "       [ 1.07602961,  0.53350782],\n",
              "       [-0.05062915, -0.42425065],\n",
              "       [ 1.63935899,  1.60735822],\n",
              "       [ 0.88825315, -0.56936557],\n",
              "       [-0.70784676, -1.52712403],\n",
              "       [-0.05062915, -0.48229661],\n",
              "       [-0.70784676,  1.08494451],\n",
              "       [-0.5200703 ,  1.4622433 ],\n",
              "       [ 1.07602961, -0.97568734],\n",
              "       [-1.08339968,  0.41741588],\n",
              "       [ 0.32492377,  0.30132395],\n",
              "       [-1.36506437, -0.10499783],\n",
              "       [-1.83450551, -0.04695186],\n",
              "       [-0.33229384, -1.29494016],\n",
              "       [ 0.98214138,  0.76569169],\n",
              "       [ 0.32492377,  0.27230096],\n",
              "       [-1.74061728, -1.41103209],\n",
              "       [ 0.79436492,  0.53350782],\n",
              "       [-0.80173499, -1.20787121],\n",
              "       [-0.05062915,  0.15620903],\n",
              "       [ 1.16991784, -0.74350347],\n",
              "       [-0.05062915,  0.27230096],\n",
              "       [-0.23840561,  0.04011709],\n",
              "       [ 0.23103554,  1.08494451],\n",
              "       [ 0.13714731, -0.30815871],\n",
              "       [ 1.3576943 , -1.41103209],\n",
              "       [-0.5200703 ,  0.88178362],\n",
              "       [-1.74061728,  0.18523201],\n",
              "       [ 0.418812  , -0.48229661],\n",
              "       [ 1.54547076,  0.99787556],\n",
              "       [ 1.54547076, -1.26591718],\n",
              "       [ 0.23103554,  0.15620903],\n",
              "       [-1.83450551, -0.74350347],\n",
              "       [-1.27117614, -1.35298613],\n",
              "       [ 0.79436492, -1.20787121],\n",
              "       [-0.05062915,  0.06914008],\n",
              "       [-0.61395853,  0.18523201],\n",
              "       [-1.08339968,  0.47546185],\n",
              "       [ 1.92102368,  2.15879491],\n",
              "       [ 0.04325908, -0.42425065],\n",
              "       [-0.89562322, -0.30815871],\n",
              "       [ 0.32492377, -0.5113196 ],\n",
              "       [-1.4589526 , -0.42425065],\n",
              "       [-0.14451738,  0.15620903],\n",
              "       [-1.08339968, -0.5113196 ],\n",
              "       [ 0.88825315,  2.15879491],\n",
              "       [ 0.79436492, -1.38200911],\n",
              "       [ 0.32492377, -0.27913573],\n",
              "       [ 2.10880014, -0.6854575 ],\n",
              "       [ 0.98214138,  1.86856507],\n",
              "       [ 0.32492377,  0.04011709],\n",
              "       [-0.05062915,  0.67862274],\n",
              "       [ 1.07602961, -0.88861839],\n",
              "       [-1.08339968, -1.09177927],\n",
              "       [ 1.26380607, -1.35298613],\n",
              "       [ 1.3576943 ,  0.59155379],\n",
              "       [ 1.3576943 ,  2.33293281],\n",
              "       [ 0.98214138,  0.59155379],\n",
              "       [-0.42618207, -0.54034258],\n",
              "       [ 1.26380607,  1.86856507],\n",
              "       [-1.27117614, -0.3371817 ],\n",
              "       [ 0.418812  , -0.45327363],\n",
              "       [ 0.79436492, -1.35298613],\n",
              "       [-0.42618207, -0.77252645],\n",
              "       [-0.70784676,  0.5625308 ],\n",
              "       [-0.23840561, -1.44005508],\n",
              "       [ 0.88825315, -0.59838855],\n",
              "       [-0.33229384,  1.23005943],\n",
              "       [-1.55284083, -0.04695186],\n",
              "       [-0.05062915,  0.24327798],\n",
              "       [-0.98951145, -0.45327363],\n",
              "       [ 2.10880014, -1.03373331],\n",
              "       [-0.70784676,  1.89758805],\n",
              "       [ 0.98214138,  1.43322031],\n",
              "       [-0.23840561, -0.25011274],\n",
              "       [-0.70784676,  0.30132395],\n",
              "       [-0.5200703 , -1.49810105],\n",
              "       [-0.80173499,  0.3883929 ],\n",
              "       [-1.27117614, -1.09177927],\n",
              "       [ 0.418812  ,  0.30132395],\n",
              "       [-0.89562322,  0.41741588],\n",
              "       [-1.36506437, -0.19206678],\n",
              "       [ 0.418812  ,  0.59155379],\n",
              "       [-0.61395853, -1.03373331],\n",
              "       [ 0.23103554, -0.13402081],\n",
              "       [-0.80173499, -0.65643452],\n",
              "       [-1.74061728,  0.01109411],\n",
              "       [-0.23840561, -1.23689419],\n",
              "       [ 0.70047669,  0.27230096],\n",
              "       [-0.61395853,  0.5625308 ],\n",
              "       [ 0.88825315, -0.65643452],\n",
              "       [ 1.82713545,  0.12718604],\n",
              "       [ 0.32492377, -0.54034258],\n",
              "       [-1.64672905, -0.59838855],\n",
              "       [-1.55284083,  0.06914008],\n",
              "       [-0.42618207, -0.01792887],\n",
              "       [-0.80173499,  2.27488684],\n",
              "       [ 0.13714731, -0.25011274],\n",
              "       [-1.4589526 ,  0.33034693],\n",
              "       [-0.23840561, -0.48229661],\n",
              "       [-1.74061728, -1.29494016],\n",
              "       [ 0.98214138, -1.17884822],\n",
              "       [-1.08339968,  0.06914008],\n",
              "       [-0.23840561, -1.38200911],\n",
              "       [ 2.01491191, -0.80154944],\n",
              "       [ 0.70047669, -1.38200911],\n",
              "       [ 2.01491191,  1.75247314],\n",
              "       [ 0.04325908,  1.25908241],\n",
              "       [ 0.70047669, -1.09177927],\n",
              "       [ 1.3576943 ,  1.2881054 ],\n",
              "       [ 1.16991784, -0.97568734],\n",
              "       [ 1.07602961, -1.20787121],\n",
              "       [-0.23840561, -0.74350347],\n",
              "       [ 1.45158253,  2.12977193],\n",
              "       [ 0.418812  ,  0.30132395],\n",
              "       [ 2.10880014,  1.11396749],\n",
              "       [ 1.16991784,  0.53350782],\n",
              "       [-1.08339968, -1.00471032],\n",
              "       [-0.05062915, -0.36620468],\n",
              "       [-0.33229384,  0.06914008],\n",
              "       [-1.08339968, -1.52712403],\n",
              "       [-1.27117614,  0.5625308 ],\n",
              "       [ 0.418812  ,  0.27230096],\n",
              "       [-0.89562322, -0.74350347],\n",
              "       [-0.23840561, -0.3371817 ],\n",
              "       [-0.98951145, -1.52712403],\n",
              "       [ 1.82713545, -1.26591718],\n",
              "       [ 0.23103554,  0.04011709],\n",
              "       [ 0.13714731,  1.05592153],\n",
              "       [ 1.45158253,  0.99787556],\n",
              "       [ 0.98214138, -0.83057242],\n",
              "       [-0.89562322, -0.42425065],\n",
              "       [ 1.92102368,  0.7366687 ],\n",
              "       [-0.89562322, -0.94666435],\n",
              "       [-0.98951145,  0.41741588],\n",
              "       [-0.23840561,  0.214255  ],\n",
              "       [-0.70784676,  0.50448483],\n",
              "       [ 0.88825315,  1.25908241],\n",
              "       [ 1.54547076,  1.11396749],\n",
              "       [-1.64672905,  0.12718604],\n",
              "       [-0.42618207, -1.12080226],\n",
              "       [-0.14451738, -0.19206678],\n",
              "       [-0.70784676, -0.59838855],\n",
              "       [-1.4589526 , -1.23689419],\n",
              "       [-0.23840561,  1.11396749],\n",
              "       [-0.14451738,  1.40419733],\n",
              "       [ 1.92102368, -1.35298613],\n",
              "       [-0.89562322,  1.54931225],\n",
              "       [-0.23840561,  2.24586386],\n",
              "       [ 0.32492377, -0.71448048],\n",
              "       [-1.64672905,  0.47546185],\n",
              "       [ 0.23103554, -0.30815871],\n",
              "       [-1.4589526 , -0.19206678],\n",
              "       [-0.14451738,  2.15879491],\n",
              "       [ 0.60658846,  2.01367999],\n",
              "       [-0.5200703 ,  1.89758805],\n",
              "       [-0.42618207, -0.83057242],\n",
              "       [ 2.01491191,  2.12977193],\n",
              "       [-1.36506437,  0.35936992],\n",
              "       [-1.17728791, -1.38200911],\n",
              "       [ 1.45158253,  0.06914008],\n",
              "       [-0.05062915, -1.06275629],\n",
              "       [ 0.32492377, -0.30815871],\n",
              "       [-1.74061728,  0.44643887],\n",
              "       [-1.83450551, -0.5113196 ],\n",
              "       [-1.55284083, -1.55614701],\n",
              "       [ 0.04325908, -0.30815871],\n",
              "       [-0.98951145,  0.76569169],\n",
              "       [ 1.07602961, -0.13402081],\n",
              "       [ 1.3576943 , -0.91764137],\n",
              "       [-0.98951145,  1.95563402],\n",
              "       [-0.14451738, -0.5113196 ],\n",
              "       [ 2.10880014,  0.3883929 ],\n",
              "       [ 0.04325908, -0.25011274],\n",
              "       [-1.64672905,  0.35936992],\n",
              "       [-0.23840561,  0.06914008],\n",
              "       [ 0.70047669, -0.71448048],\n",
              "       [-0.05062915,  0.30132395],\n",
              "       [ 0.88825315, -0.54034258],\n",
              "       [-1.64672905, -1.35298613],\n",
              "       [ 0.79436492,  0.12718604],\n",
              "       [-0.98951145, -1.12080226],\n",
              "       [ 2.10880014, -0.80154944],\n",
              "       [ 0.98214138, -1.00471032],\n",
              "       [-0.23840561, -0.56936557],\n",
              "       [ 0.79436492, -0.83057242],\n",
              "       [ 0.32492377,  0.06914008],\n",
              "       [ 1.16991784, -1.44005508],\n",
              "       [ 0.98214138, -1.14982524],\n",
              "       [-0.61395853, -0.10499783],\n",
              "       [ 0.88825315, -1.44005508],\n",
              "       [-0.23840561, -1.35298613],\n",
              "       [ 1.26380607,  2.21684088],\n",
              "       [-0.80173499,  0.15620903],\n",
              "       [ 0.98214138,  0.12718604],\n",
              "       [ 0.04325908,  1.23005943],\n",
              "       [-0.05062915,  1.95563402],\n",
              "       [ 0.60658846, -0.88861839],\n",
              "       [ 0.98214138, -1.06275629],\n",
              "       [-0.70784676,  1.34615136],\n",
              "       [ 1.3576943 ,  1.98465701],\n",
              "       [-0.61395853, -1.58517   ],\n",
              "       [ 0.32492377, -1.14982524],\n",
              "       [-0.61395853,  1.40419733],\n",
              "       [-0.70784676, -0.22108976],\n",
              "       [-1.83450551,  0.35936992],\n",
              "       [ 0.70047669,  1.78149612],\n",
              "       [-1.27117614,  0.41741588],\n",
              "       [ 0.23103554, -0.27913573],\n",
              "       [-0.98951145,  0.5625308 ],\n",
              "       [-0.61395853, -0.3371817 ]])"
            ]
          },
          "metadata": {},
          "execution_count": 20
        }
      ]
    },
    {
      "cell_type": "code",
      "source": [
        "x_test=sc.transform(x_test)\n",
        "x_test"
      ],
      "metadata": {
        "colab": {
          "base_uri": "https://localhost:8080/"
        },
        "id": "sn-hMbxGR_s9",
        "outputId": "a2ba166f-ca73-43e4-8889-ea3f4ceedb28"
      },
      "execution_count": null,
      "outputs": [
        {
          "output_type": "execute_result",
          "data": {
            "text/plain": [
              "array([[-0.70784676, -1.58517   ],\n",
              "       [-0.5200703 ,  1.37517435],\n",
              "       [ 0.23103554, -0.36620468],\n",
              "       [ 1.82713545, -0.27913573],\n",
              "       [-0.23840561,  0.53350782],\n",
              "       [-0.5200703 ,  0.47546185],\n",
              "       [ 0.04325908, -0.54034258],\n",
              "       [ 0.13714731,  0.76569169],\n",
              "       [ 1.82713545,  1.52028927],\n",
              "       [-0.23840561, -0.88861839],\n",
              "       [ 1.92102368,  0.91080661],\n",
              "       [-0.05062915, -0.22108976],\n",
              "       [ 0.23103554,  2.10074894],\n",
              "       [-1.55284083,  0.53350782],\n",
              "       [ 0.79436492, -0.30815871],\n",
              "       [ 0.79436492,  0.35936992],\n",
              "       [ 0.418812  ,  2.30390983],\n",
              "       [ 1.54547076,  0.01109411],\n",
              "       [-0.23840561,  0.15620903],\n",
              "       [ 2.01491191, -1.17884822],\n",
              "       [-0.14451738, -0.56936557],\n",
              "       [-1.08339968, -1.14982524],\n",
              "       [ 0.98214138,  2.07172596],\n",
              "       [ 0.32492377,  0.50448483],\n",
              "       [ 0.23103554,  0.06914008],\n",
              "       [-1.17728791,  0.27230096],\n",
              "       [ 1.07602961,  0.5625308 ],\n",
              "       [ 2.01491191,  0.3883929 ],\n",
              "       [ 0.418812  ,  1.11396749],\n",
              "       [ 0.418812  ,  0.01109411],\n",
              "       [-0.23840561,  0.62057677],\n",
              "       [-0.05062915,  0.01109411],\n",
              "       [-0.23840561, -0.65643452],\n",
              "       [ 1.92102368, -0.91764137],\n",
              "       [-0.61395853,  0.04011709],\n",
              "       [ 0.13714731,  1.86856507],\n",
              "       [-0.80173499, -0.77252645],\n",
              "       [-0.89562322, -1.09177927],\n",
              "       [ 0.04325908,  0.04011709],\n",
              "       [ 0.98214138,  1.78149612],\n",
              "       [ 1.73324722,  1.83954209],\n",
              "       [-1.17728791,  0.59155379],\n",
              "       [-0.42618207,  2.30390983],\n",
              "       [-1.08339968,  1.40419733],\n",
              "       [ 0.13714731,  0.15620903],\n",
              "       [ 0.13714731,  0.04011709],\n",
              "       [-0.23840561, -0.30815871],\n",
              "       [ 0.13714731,  1.52028927],\n",
              "       [ 0.88825315, -1.29494016],\n",
              "       [ 0.32492377, -0.19206678],\n",
              "       [-1.08339968, -0.77252645],\n",
              "       [-0.23840561, -1.29494016],\n",
              "       [ 0.70047669, -1.26591718],\n",
              "       [-0.98951145, -0.36620468],\n",
              "       [ 2.10880014,  0.93982959],\n",
              "       [-1.36506437, -0.62741153],\n",
              "       [ 2.01491191,  0.18523201],\n",
              "       [-0.14451738, -0.45327363],\n",
              "       [-0.98951145, -0.3371817 ],\n",
              "       [-0.05062915,  0.214255  ],\n",
              "       [-0.61395853, -0.04695186],\n",
              "       [-1.64672905, -0.97568734],\n",
              "       [-0.05062915,  2.15879491],\n",
              "       [ 0.04325908, -0.56936557],\n",
              "       [-0.14451738, -1.06275629],\n",
              "       [ 0.88825315, -1.03373331],\n",
              "       [-0.89562322,  0.44643887],\n",
              "       [ 1.63935899,  1.75247314],\n",
              "       [ 0.98214138,  1.98465701],\n",
              "       [-0.23840561, -0.91764137],\n",
              "       [-1.27117614, -1.23689419],\n",
              "       [-1.74061728, -1.26591718],\n",
              "       [-1.83450551,  0.47546185],\n",
              "       [-0.23840561, -0.13402081]])"
            ]
          },
          "metadata": {},
          "execution_count": 21
        }
      ]
    },
    {
      "cell_type": "code",
      "source": [
        "#finding k value\n",
        "np.sqrt(x_train.shape[0])"
      ],
      "metadata": {
        "colab": {
          "base_uri": "https://localhost:8080/"
        },
        "id": "j535hTocSMdp",
        "outputId": "07328a73-4bc7-4e52-c981-509fc77a8aa4"
      },
      "execution_count": null,
      "outputs": [
        {
          "output_type": "execute_result",
          "data": {
            "text/plain": [
              "17.11724276862369"
            ]
          },
          "metadata": {},
          "execution_count": 22
        }
      ]
    },
    {
      "cell_type": "code",
      "source": [
        "k=17"
      ],
      "metadata": {
        "id": "JIoO-ZQTS60K"
      },
      "execution_count": null,
      "outputs": []
    },
    {
      "cell_type": "code",
      "source": [
        "from sklearn.neighbors import KNeighborsClassifier\n",
        "knn= KNeighborsClassifier(n_neighbors=17)\n"
      ],
      "metadata": {
        "id": "riHnDsaqS9LT"
      },
      "execution_count": null,
      "outputs": []
    },
    {
      "cell_type": "code",
      "source": [
        "knn.fit(x_train,y_train)"
      ],
      "metadata": {
        "colab": {
          "base_uri": "https://localhost:8080/",
          "height": 74
        },
        "id": "mdd-XqfqT3iQ",
        "outputId": "4b3804f1-2571-485f-c00b-719097836f0f"
      },
      "execution_count": null,
      "outputs": [
        {
          "output_type": "execute_result",
          "data": {
            "text/plain": [
              "KNeighborsClassifier(n_neighbors=17)"
            ],
            "text/html": [
              "<style>#sk-container-id-1 {color: black;background-color: white;}#sk-container-id-1 pre{padding: 0;}#sk-container-id-1 div.sk-toggleable {background-color: white;}#sk-container-id-1 label.sk-toggleable__label {cursor: pointer;display: block;width: 100%;margin-bottom: 0;padding: 0.3em;box-sizing: border-box;text-align: center;}#sk-container-id-1 label.sk-toggleable__label-arrow:before {content: \"▸\";float: left;margin-right: 0.25em;color: #696969;}#sk-container-id-1 label.sk-toggleable__label-arrow:hover:before {color: black;}#sk-container-id-1 div.sk-estimator:hover label.sk-toggleable__label-arrow:before {color: black;}#sk-container-id-1 div.sk-toggleable__content {max-height: 0;max-width: 0;overflow: hidden;text-align: left;background-color: #f0f8ff;}#sk-container-id-1 div.sk-toggleable__content pre {margin: 0.2em;color: black;border-radius: 0.25em;background-color: #f0f8ff;}#sk-container-id-1 input.sk-toggleable__control:checked~div.sk-toggleable__content {max-height: 200px;max-width: 100%;overflow: auto;}#sk-container-id-1 input.sk-toggleable__control:checked~label.sk-toggleable__label-arrow:before {content: \"▾\";}#sk-container-id-1 div.sk-estimator input.sk-toggleable__control:checked~label.sk-toggleable__label {background-color: #d4ebff;}#sk-container-id-1 div.sk-label input.sk-toggleable__control:checked~label.sk-toggleable__label {background-color: #d4ebff;}#sk-container-id-1 input.sk-hidden--visually {border: 0;clip: rect(1px 1px 1px 1px);clip: rect(1px, 1px, 1px, 1px);height: 1px;margin: -1px;overflow: hidden;padding: 0;position: absolute;width: 1px;}#sk-container-id-1 div.sk-estimator {font-family: monospace;background-color: #f0f8ff;border: 1px dotted black;border-radius: 0.25em;box-sizing: border-box;margin-bottom: 0.5em;}#sk-container-id-1 div.sk-estimator:hover {background-color: #d4ebff;}#sk-container-id-1 div.sk-parallel-item::after {content: \"\";width: 100%;border-bottom: 1px solid gray;flex-grow: 1;}#sk-container-id-1 div.sk-label:hover label.sk-toggleable__label {background-color: #d4ebff;}#sk-container-id-1 div.sk-serial::before {content: \"\";position: absolute;border-left: 1px solid gray;box-sizing: border-box;top: 0;bottom: 0;left: 50%;z-index: 0;}#sk-container-id-1 div.sk-serial {display: flex;flex-direction: column;align-items: center;background-color: white;padding-right: 0.2em;padding-left: 0.2em;position: relative;}#sk-container-id-1 div.sk-item {position: relative;z-index: 1;}#sk-container-id-1 div.sk-parallel {display: flex;align-items: stretch;justify-content: center;background-color: white;position: relative;}#sk-container-id-1 div.sk-item::before, #sk-container-id-1 div.sk-parallel-item::before {content: \"\";position: absolute;border-left: 1px solid gray;box-sizing: border-box;top: 0;bottom: 0;left: 50%;z-index: -1;}#sk-container-id-1 div.sk-parallel-item {display: flex;flex-direction: column;z-index: 1;position: relative;background-color: white;}#sk-container-id-1 div.sk-parallel-item:first-child::after {align-self: flex-end;width: 50%;}#sk-container-id-1 div.sk-parallel-item:last-child::after {align-self: flex-start;width: 50%;}#sk-container-id-1 div.sk-parallel-item:only-child::after {width: 0;}#sk-container-id-1 div.sk-dashed-wrapped {border: 1px dashed gray;margin: 0 0.4em 0.5em 0.4em;box-sizing: border-box;padding-bottom: 0.4em;background-color: white;}#sk-container-id-1 div.sk-label label {font-family: monospace;font-weight: bold;display: inline-block;line-height: 1.2em;}#sk-container-id-1 div.sk-label-container {text-align: center;}#sk-container-id-1 div.sk-container {/* jupyter's `normalize.less` sets `[hidden] { display: none; }` but bootstrap.min.css set `[hidden] { display: none !important; }` so we also need the `!important` here to be able to override the default hidden behavior on the sphinx rendered scikit-learn.org. See: https://github.com/scikit-learn/scikit-learn/issues/21755 */display: inline-block !important;position: relative;}#sk-container-id-1 div.sk-text-repr-fallback {display: none;}</style><div id=\"sk-container-id-1\" class=\"sk-top-container\"><div class=\"sk-text-repr-fallback\"><pre>KNeighborsClassifier(n_neighbors=17)</pre><b>In a Jupyter environment, please rerun this cell to show the HTML representation or trust the notebook. <br />On GitHub, the HTML representation is unable to render, please try loading this page with nbviewer.org.</b></div><div class=\"sk-container\" hidden><div class=\"sk-item\"><div class=\"sk-estimator sk-toggleable\"><input class=\"sk-toggleable__control sk-hidden--visually\" id=\"sk-estimator-id-1\" type=\"checkbox\" checked><label for=\"sk-estimator-id-1\" class=\"sk-toggleable__label sk-toggleable__label-arrow\">KNeighborsClassifier</label><div class=\"sk-toggleable__content\"><pre>KNeighborsClassifier(n_neighbors=17)</pre></div></div></div></div></div>"
            ]
          },
          "metadata": {},
          "execution_count": 26
        }
      ]
    },
    {
      "cell_type": "code",
      "source": [
        "y_pred=knn.predict(x_test)"
      ],
      "metadata": {
        "id": "-N6s7hYJUCzW"
      },
      "execution_count": null,
      "outputs": []
    },
    {
      "cell_type": "code",
      "source": [
        "y_pred.shape"
      ],
      "metadata": {
        "colab": {
          "base_uri": "https://localhost:8080/"
        },
        "id": "MB2FJo6MUG6v",
        "outputId": "c664b1de-99c7-4cda-b59e-ab7657c4142e"
      },
      "execution_count": null,
      "outputs": [
        {
          "output_type": "execute_result",
          "data": {
            "text/plain": [
              "(74,)"
            ]
          },
          "metadata": {},
          "execution_count": 28
        }
      ]
    },
    {
      "cell_type": "code",
      "source": [
        "y_test.shape"
      ],
      "metadata": {
        "colab": {
          "base_uri": "https://localhost:8080/"
        },
        "id": "eIvaEFtyUJ66",
        "outputId": "8ecef4f9-417e-4af0-a997-cb27da329626"
      },
      "execution_count": null,
      "outputs": [
        {
          "output_type": "execute_result",
          "data": {
            "text/plain": [
              "(74,)"
            ]
          },
          "metadata": {},
          "execution_count": 29
        }
      ]
    },
    {
      "cell_type": "code",
      "source": [
        "from sklearn.metrics import accuracy_score\n",
        "accuracy_score (y_test,y_pred)\n"
      ],
      "metadata": {
        "colab": {
          "base_uri": "https://localhost:8080/"
        },
        "id": "EdGVvIUaULj2",
        "outputId": "054e3455-a57d-486f-d1de-8f595364157a"
      },
      "execution_count": null,
      "outputs": [
        {
          "output_type": "execute_result",
          "data": {
            "text/plain": [
              "0.8918918918918919"
            ]
          },
          "metadata": {},
          "execution_count": 30
        }
      ]
    },
    {
      "cell_type": "code",
      "source": [
        "from sklearn.metrics import confusion_matrix\n",
        "confusion_matrix(y_test,y_pred)"
      ],
      "metadata": {
        "colab": {
          "base_uri": "https://localhost:8080/"
        },
        "id": "4soEJ-FHUX0J",
        "outputId": "d9ec9046-7ba3-4eca-80ff-f00181bb59ad"
      },
      "execution_count": null,
      "outputs": [
        {
          "output_type": "execute_result",
          "data": {
            "text/plain": [
              "array([[41,  4],\n",
              "       [ 4, 25]])"
            ]
          },
          "metadata": {},
          "execution_count": 33
        }
      ]
    },
    {
      "cell_type": "code",
      "source": [],
      "metadata": {
        "id": "iuVF4CMuUw-V"
      },
      "execution_count": null,
      "outputs": []
    }
  ]
}