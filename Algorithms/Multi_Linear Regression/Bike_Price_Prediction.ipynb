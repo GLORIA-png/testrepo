{
 "cells": [
  {
   "cell_type": "markdown",
   "metadata": {
    "id": "npH3qaB4xgY6"
   },
   "source": [
    "### **Bike Price Prediction using Linear Regression**"
   ]
  },
  {
   "cell_type": "markdown",
   "metadata": {
    "id": "cVxIUVASxm16"
   },
   "source": [
    "**Import Library**"
   ]
  },
  {
   "cell_type": "code",
   "execution_count": 12,
   "metadata": {
    "executionInfo": {
     "elapsed": 892,
     "status": "ok",
     "timestamp": 1653829847767,
     "user": {
      "displayName": "Phasma X",
      "userId": "00537645652717338233"
     },
     "user_tz": -330
    },
    "id": "D6ddj65nxdIp"
   },
   "outputs": [],
   "source": [
    "import pandas as pd"
   ]
  },
  {
   "cell_type": "code",
   "execution_count": 13,
   "metadata": {
    "executionInfo": {
     "elapsed": 52,
     "status": "ok",
     "timestamp": 1653829847771,
     "user": {
      "displayName": "Phasma X",
      "userId": "00537645652717338233"
     },
     "user_tz": -330
    },
    "id": "pwGaMvY_x1qh"
   },
   "outputs": [],
   "source": [
    "import numpy as np"
   ]
  },
  {
   "cell_type": "markdown",
   "metadata": {
    "id": "M6aHppQQx3MH"
   },
   "source": [
    "**Import CSV as DataFrame**"
   ]
  },
  {
   "cell_type": "code",
   "execution_count": 14,
   "metadata": {
    "executionInfo": {
     "elapsed": 50,
     "status": "ok",
     "timestamp": 1653829847772,
     "user": {
      "displayName": "Phasma X",
      "userId": "00537645652717338233"
     },
     "user_tz": -330
    },
    "id": "PdPiJbeDx5b_"
   },
   "outputs": [],
   "source": [
    "df = pd.read_csv('Bike Prices.csv')"
   ]
  },
  {
   "cell_type": "markdown",
   "metadata": {
    "id": "Y5g0llWnx89x"
   },
   "source": [
    "**Get the First Five Rows of DataFrame**"
   ]
  },
  {
   "cell_type": "code",
   "execution_count": 15,
   "metadata": {
    "colab": {
     "base_uri": "https://localhost:8080/",
     "height": 0
    },
    "executionInfo": {
     "elapsed": 48,
     "status": "ok",
     "timestamp": 1653829847773,
     "user": {
      "displayName": "Phasma X",
      "userId": "00537645652717338233"
     },
     "user_tz": -330
    },
    "id": "M7R8gEqDx8tQ",
    "outputId": "a79f86ec-28c9-4205-aac5-48fe2501ddf3"
   },
   "outputs": [
    {
     "data": {
      "text/html": [
       "<div>\n",
       "<style scoped>\n",
       "    .dataframe tbody tr th:only-of-type {\n",
       "        vertical-align: middle;\n",
       "    }\n",
       "\n",
       "    .dataframe tbody tr th {\n",
       "        vertical-align: top;\n",
       "    }\n",
       "\n",
       "    .dataframe thead th {\n",
       "        text-align: right;\n",
       "    }\n",
       "</style>\n",
       "<table border=\"1\" class=\"dataframe\">\n",
       "  <thead>\n",
       "    <tr style=\"text-align: right;\">\n",
       "      <th></th>\n",
       "      <th>Brand</th>\n",
       "      <th>Model</th>\n",
       "      <th>Selling_Price</th>\n",
       "      <th>Year</th>\n",
       "      <th>Seller_Type</th>\n",
       "      <th>Owner</th>\n",
       "      <th>KM_Driven</th>\n",
       "      <th>Ex_Showroom_Price</th>\n",
       "    </tr>\n",
       "  </thead>\n",
       "  <tbody>\n",
       "    <tr>\n",
       "      <th>0</th>\n",
       "      <td>TVS</td>\n",
       "      <td>TVS XL 100</td>\n",
       "      <td>30000</td>\n",
       "      <td>2017</td>\n",
       "      <td>Individual</td>\n",
       "      <td>1st owner</td>\n",
       "      <td>8000</td>\n",
       "      <td>30490.0</td>\n",
       "    </tr>\n",
       "    <tr>\n",
       "      <th>1</th>\n",
       "      <td>Bajaj</td>\n",
       "      <td>Bajaj  ct 100</td>\n",
       "      <td>18000</td>\n",
       "      <td>2017</td>\n",
       "      <td>Individual</td>\n",
       "      <td>1st owner</td>\n",
       "      <td>35000</td>\n",
       "      <td>32000.0</td>\n",
       "    </tr>\n",
       "    <tr>\n",
       "      <th>2</th>\n",
       "      <td>Yo</td>\n",
       "      <td>Yo Style</td>\n",
       "      <td>20000</td>\n",
       "      <td>2011</td>\n",
       "      <td>Individual</td>\n",
       "      <td>1st owner</td>\n",
       "      <td>10000</td>\n",
       "      <td>37675.0</td>\n",
       "    </tr>\n",
       "    <tr>\n",
       "      <th>3</th>\n",
       "      <td>Bajaj</td>\n",
       "      <td>Bajaj Discover 100</td>\n",
       "      <td>25000</td>\n",
       "      <td>2010</td>\n",
       "      <td>Individual</td>\n",
       "      <td>1st owner</td>\n",
       "      <td>43000</td>\n",
       "      <td>42859.0</td>\n",
       "    </tr>\n",
       "    <tr>\n",
       "      <th>4</th>\n",
       "      <td>Bajaj</td>\n",
       "      <td>Bajaj Discover 100</td>\n",
       "      <td>24999</td>\n",
       "      <td>2012</td>\n",
       "      <td>Individual</td>\n",
       "      <td>2nd owner</td>\n",
       "      <td>35000</td>\n",
       "      <td>42859.0</td>\n",
       "    </tr>\n",
       "  </tbody>\n",
       "</table>\n",
       "</div>"
      ],
      "text/plain": [
       "   Brand               Model  Selling_Price  Year Seller_Type      Owner  \\\n",
       "0    TVS          TVS XL 100          30000  2017  Individual  1st owner   \n",
       "1  Bajaj       Bajaj  ct 100          18000  2017  Individual  1st owner   \n",
       "2     Yo            Yo Style          20000  2011  Individual  1st owner   \n",
       "3  Bajaj  Bajaj Discover 100          25000  2010  Individual  1st owner   \n",
       "4  Bajaj  Bajaj Discover 100          24999  2012  Individual  2nd owner   \n",
       "\n",
       "   KM_Driven  Ex_Showroom_Price  \n",
       "0       8000            30490.0  \n",
       "1      35000            32000.0  \n",
       "2      10000            37675.0  \n",
       "3      43000            42859.0  \n",
       "4      35000            42859.0  "
      ]
     },
     "execution_count": 15,
     "metadata": {},
     "output_type": "execute_result"
    }
   ],
   "source": [
    "df.head()"
   ]
  },
  {
   "cell_type": "markdown",
   "metadata": {
    "id": "PNgYXUq0yDRk"
   },
   "source": [
    "**Get Information of DataFrame**"
   ]
  },
  {
   "cell_type": "code",
   "execution_count": 16,
   "metadata": {
    "colab": {
     "base_uri": "https://localhost:8080/"
    },
    "executionInfo": {
     "elapsed": 43,
     "status": "ok",
     "timestamp": 1653829847774,
     "user": {
      "displayName": "Phasma X",
      "userId": "00537645652717338233"
     },
     "user_tz": -330
    },
    "id": "xwhfpmy9yCdP",
    "outputId": "af67415a-9361-4258-bdce-4fee71aaa60c"
   },
   "outputs": [
    {
     "name": "stdout",
     "output_type": "stream",
     "text": [
      "<class 'pandas.core.frame.DataFrame'>\n",
      "RangeIndex: 1061 entries, 0 to 1060\n",
      "Data columns (total 8 columns):\n",
      " #   Column             Non-Null Count  Dtype  \n",
      "---  ------             --------------  -----  \n",
      " 0   Brand              1061 non-null   object \n",
      " 1   Model              1061 non-null   object \n",
      " 2   Selling_Price      1061 non-null   int64  \n",
      " 3   Year               1061 non-null   int64  \n",
      " 4   Seller_Type        1061 non-null   object \n",
      " 5   Owner              1061 non-null   object \n",
      " 6   KM_Driven          1061 non-null   int64  \n",
      " 7   Ex_Showroom_Price  626 non-null    float64\n",
      "dtypes: float64(1), int64(3), object(4)\n",
      "memory usage: 66.4+ KB\n"
     ]
    }
   ],
   "source": [
    "df.info()"
   ]
  },
  {
   "cell_type": "markdown",
   "metadata": {
    "id": "B4gvev0QyMH5"
   },
   "source": [
    "**Get Missing Values Drop**"
   ]
  },
  {
   "cell_type": "code",
   "execution_count": 17,
   "metadata": {
    "executionInfo": {
     "elapsed": 21,
     "status": "ok",
     "timestamp": 1653829847774,
     "user": {
      "displayName": "Phasma X",
      "userId": "00537645652717338233"
     },
     "user_tz": -330
    },
    "id": "x93NY0-AyORW"
   },
   "outputs": [],
   "source": [
    "df = df.dropna()"
   ]
  },
  {
   "cell_type": "markdown",
   "metadata": {
    "id": "IuJzM8CUyRNp"
   },
   "source": [
    "**Get Summary Statistics**"
   ]
  },
  {
   "cell_type": "code",
   "execution_count": 18,
   "metadata": {
    "colab": {
     "base_uri": "https://localhost:8080/",
     "height": 0
    },
    "executionInfo": {
     "elapsed": 21,
     "status": "ok",
     "timestamp": 1653829847775,
     "user": {
      "displayName": "Phasma X",
      "userId": "00537645652717338233"
     },
     "user_tz": -330
    },
    "id": "3vXpac7_yThg",
    "outputId": "accd6d9e-3944-45e9-ddf6-0449a72936a7"
   },
   "outputs": [
    {
     "data": {
      "text/html": [
       "<div>\n",
       "<style scoped>\n",
       "    .dataframe tbody tr th:only-of-type {\n",
       "        vertical-align: middle;\n",
       "    }\n",
       "\n",
       "    .dataframe tbody tr th {\n",
       "        vertical-align: top;\n",
       "    }\n",
       "\n",
       "    .dataframe thead th {\n",
       "        text-align: right;\n",
       "    }\n",
       "</style>\n",
       "<table border=\"1\" class=\"dataframe\">\n",
       "  <thead>\n",
       "    <tr style=\"text-align: right;\">\n",
       "      <th></th>\n",
       "      <th>Selling_Price</th>\n",
       "      <th>Year</th>\n",
       "      <th>KM_Driven</th>\n",
       "      <th>Ex_Showroom_Price</th>\n",
       "    </tr>\n",
       "  </thead>\n",
       "  <tbody>\n",
       "    <tr>\n",
       "      <th>count</th>\n",
       "      <td>626.000000</td>\n",
       "      <td>626.000000</td>\n",
       "      <td>626.000000</td>\n",
       "      <td>6.260000e+02</td>\n",
       "    </tr>\n",
       "    <tr>\n",
       "      <th>mean</th>\n",
       "      <td>59445.164537</td>\n",
       "      <td>2014.800319</td>\n",
       "      <td>32671.576677</td>\n",
       "      <td>8.795871e+04</td>\n",
       "    </tr>\n",
       "    <tr>\n",
       "      <th>std</th>\n",
       "      <td>59904.350888</td>\n",
       "      <td>3.018885</td>\n",
       "      <td>45479.661039</td>\n",
       "      <td>7.749659e+04</td>\n",
       "    </tr>\n",
       "    <tr>\n",
       "      <th>min</th>\n",
       "      <td>6000.000000</td>\n",
       "      <td>2001.000000</td>\n",
       "      <td>380.000000</td>\n",
       "      <td>3.049000e+04</td>\n",
       "    </tr>\n",
       "    <tr>\n",
       "      <th>25%</th>\n",
       "      <td>30000.000000</td>\n",
       "      <td>2013.000000</td>\n",
       "      <td>13031.250000</td>\n",
       "      <td>5.485200e+04</td>\n",
       "    </tr>\n",
       "    <tr>\n",
       "      <th>50%</th>\n",
       "      <td>45000.000000</td>\n",
       "      <td>2015.000000</td>\n",
       "      <td>25000.000000</td>\n",
       "      <td>7.275250e+04</td>\n",
       "    </tr>\n",
       "    <tr>\n",
       "      <th>75%</th>\n",
       "      <td>65000.000000</td>\n",
       "      <td>2017.000000</td>\n",
       "      <td>40000.000000</td>\n",
       "      <td>8.703150e+04</td>\n",
       "    </tr>\n",
       "    <tr>\n",
       "      <th>max</th>\n",
       "      <td>760000.000000</td>\n",
       "      <td>2020.000000</td>\n",
       "      <td>585659.000000</td>\n",
       "      <td>1.278000e+06</td>\n",
       "    </tr>\n",
       "  </tbody>\n",
       "</table>\n",
       "</div>"
      ],
      "text/plain": [
       "       Selling_Price         Year      KM_Driven  Ex_Showroom_Price\n",
       "count     626.000000   626.000000     626.000000       6.260000e+02\n",
       "mean    59445.164537  2014.800319   32671.576677       8.795871e+04\n",
       "std     59904.350888     3.018885   45479.661039       7.749659e+04\n",
       "min      6000.000000  2001.000000     380.000000       3.049000e+04\n",
       "25%     30000.000000  2013.000000   13031.250000       5.485200e+04\n",
       "50%     45000.000000  2015.000000   25000.000000       7.275250e+04\n",
       "75%     65000.000000  2017.000000   40000.000000       8.703150e+04\n",
       "max    760000.000000  2020.000000  585659.000000       1.278000e+06"
      ]
     },
     "execution_count": 18,
     "metadata": {},
     "output_type": "execute_result"
    }
   ],
   "source": [
    "df.describe()"
   ]
  },
  {
   "cell_type": "markdown",
   "metadata": {
    "id": "TkF6yKgHyWED"
   },
   "source": [
    "**Get Categories and Counts of Categorical Variables**"
   ]
  },
  {
   "cell_type": "code",
   "execution_count": 19,
   "metadata": {
    "colab": {
     "base_uri": "https://localhost:8080/"
    },
    "executionInfo": {
     "elapsed": 17,
     "status": "ok",
     "timestamp": 1653829847775,
     "user": {
      "displayName": "Phasma X",
      "userId": "00537645652717338233"
     },
     "user_tz": -330
    },
    "id": "xXUx_8jeyX_D",
    "outputId": "3facf6aa-5003-4f5c-d827-62701784c3e9"
   },
   "outputs": [
    {
     "data": {
      "text/plain": [
       "Brand   \n",
       "Honda       170\n",
       "Bajaj       143\n",
       "Hero        108\n",
       "Yamaha       94\n",
       "Royal        40\n",
       "TVS          23\n",
       "Suzuki       18\n",
       "KTM           6\n",
       "Mahindra      6\n",
       "Kawasaki      4\n",
       "UM            3\n",
       "Activa        3\n",
       "Harley        2\n",
       "Vespa         2\n",
       "BMW           1\n",
       "Hyosung       1\n",
       "Benelli       1\n",
       "Yo            1\n",
       "Name: count, dtype: int64"
      ]
     },
     "execution_count": 19,
     "metadata": {},
     "output_type": "execute_result"
    }
   ],
   "source": [
    "df[['Brand']].value_counts()"
   ]
  },
  {
   "cell_type": "code",
   "execution_count": 20,
   "metadata": {
    "colab": {
     "base_uri": "https://localhost:8080/"
    },
    "executionInfo": {
     "elapsed": 42,
     "status": "ok",
     "timestamp": 1653829848450,
     "user": {
      "displayName": "Phasma X",
      "userId": "00537645652717338233"
     },
     "user_tz": -330
    },
    "id": "-kzmTntrya-L",
    "outputId": "ffb0adc6-406d-4a2c-d1a7-0b655c5bb550"
   },
   "outputs": [
    {
     "data": {
      "text/plain": [
       "Model                                     \n",
       "Honda Activa [2000-2015]                      23\n",
       "Honda CB Hornet 160R                          22\n",
       "Bajaj Pulsar 180                              20\n",
       "Yamaha FZ S V 2.0                             16\n",
       "Bajaj Discover 125                            16\n",
       "                                              ..\n",
       "Royal Enfield Thunderbird 500                  1\n",
       "Royal Enfield Continental GT [2013 - 2018]     1\n",
       "Royal Enfield Classic Stealth Black            1\n",
       "Royal Enfield Classic Squadron Blue            1\n",
       "Yo Style                                       1\n",
       "Name: count, Length: 183, dtype: int64"
      ]
     },
     "execution_count": 20,
     "metadata": {},
     "output_type": "execute_result"
    }
   ],
   "source": [
    "df[['Model']].value_counts()"
   ]
  },
  {
   "cell_type": "code",
   "execution_count": 21,
   "metadata": {
    "colab": {
     "base_uri": "https://localhost:8080/"
    },
    "executionInfo": {
     "elapsed": 38,
     "status": "ok",
     "timestamp": 1653829848451,
     "user": {
      "displayName": "Phasma X",
      "userId": "00537645652717338233"
     },
     "user_tz": -330
    },
    "id": "6qYvO7z4ydFZ",
    "outputId": "bd79f2bb-5d64-4fab-cf7a-d78f0f60b494"
   },
   "outputs": [
    {
     "data": {
      "text/plain": [
       "Seller_Type\n",
       "Individual     623\n",
       "Dealer           3\n",
       "Name: count, dtype: int64"
      ]
     },
     "execution_count": 21,
     "metadata": {},
     "output_type": "execute_result"
    }
   ],
   "source": [
    "df[['Seller_Type']].value_counts()"
   ]
  },
  {
   "cell_type": "code",
   "execution_count": 22,
   "metadata": {
    "colab": {
     "base_uri": "https://localhost:8080/"
    },
    "executionInfo": {
     "elapsed": 34,
     "status": "ok",
     "timestamp": 1653829848451,
     "user": {
      "displayName": "Phasma X",
      "userId": "00537645652717338233"
     },
     "user_tz": -330
    },
    "id": "U6vFjl6pyfaZ",
    "outputId": "44f0b5ce-1712-49c6-efa4-4b37e2aba768"
   },
   "outputs": [
    {
     "data": {
      "text/plain": [
       "Owner    \n",
       "1st owner    556\n",
       "2nd owner     66\n",
       "3rd owner      3\n",
       "4th owner      1\n",
       "Name: count, dtype: int64"
      ]
     },
     "execution_count": 22,
     "metadata": {},
     "output_type": "execute_result"
    }
   ],
   "source": [
    "df[['Owner']].value_counts()"
   ]
  },
  {
   "cell_type": "markdown",
   "metadata": {
    "id": "jsSpWCQsyhXq"
   },
   "source": [
    "**Get Column Names**"
   ]
  },
  {
   "cell_type": "code",
   "execution_count": 23,
   "metadata": {
    "colab": {
     "base_uri": "https://localhost:8080/"
    },
    "executionInfo": {
     "elapsed": 32,
     "status": "ok",
     "timestamp": 1653829848452,
     "user": {
      "displayName": "Phasma X",
      "userId": "00537645652717338233"
     },
     "user_tz": -330
    },
    "id": "xe468hYMyjjR",
    "outputId": "ce938a0c-a934-4247-ed23-8635fd90d0be"
   },
   "outputs": [
    {
     "data": {
      "text/plain": [
       "Index(['Brand', 'Model', 'Selling_Price', 'Year', 'Seller_Type', 'Owner',\n",
       "       'KM_Driven', 'Ex_Showroom_Price'],\n",
       "      dtype='object')"
      ]
     },
     "execution_count": 23,
     "metadata": {},
     "output_type": "execute_result"
    }
   ],
   "source": [
    "df.columns"
   ]
  },
  {
   "cell_type": "markdown",
   "metadata": {
    "id": "NcPdASwlymWK"
   },
   "source": [
    "**Get Shape of DataFrame**"
   ]
  },
  {
   "cell_type": "code",
   "execution_count": 24,
   "metadata": {
    "colab": {
     "base_uri": "https://localhost:8080/"
    },
    "executionInfo": {
     "elapsed": 29,
     "status": "ok",
     "timestamp": 1653829848453,
     "user": {
      "displayName": "Phasma X",
      "userId": "00537645652717338233"
     },
     "user_tz": -330
    },
    "id": "h4j6fN4Lyllq",
    "outputId": "31359203-5fb7-4f4e-9670-6dd07bd97935"
   },
   "outputs": [
    {
     "data": {
      "text/plain": [
       "(626, 8)"
      ]
     },
     "execution_count": 24,
     "metadata": {},
     "output_type": "execute_result"
    }
   ],
   "source": [
    "df.shape"
   ]
  },
  {
   "cell_type": "markdown",
   "metadata": {
    "id": "TOjeLwcmyr2t"
   },
   "source": [
    "**Get Encoding of Categorical Features**"
   ]
  },
  {
   "cell_type": "code",
   "execution_count": 25,
   "metadata": {
    "executionInfo": {
     "elapsed": 25,
     "status": "ok",
     "timestamp": 1653829848454,
     "user": {
      "displayName": "Phasma X",
      "userId": "00537645652717338233"
     },
     "user_tz": -330
    },
    "id": "dgemrePBypnv"
   },
   "outputs": [],
   "source": [
    "df.replace({'Seller_Type':{'Individual':0,'Dealer':1}},inplace=True)"
   ]
  },
  {
   "cell_type": "code",
   "execution_count": 26,
   "metadata": {
    "executionInfo": {
     "elapsed": 25,
     "status": "ok",
     "timestamp": 1653829848455,
     "user": {
      "displayName": "Phasma X",
      "userId": "00537645652717338233"
     },
     "user_tz": -330
    },
    "id": "CWU6NKTdyu5O"
   },
   "outputs": [],
   "source": [
    "df.replace({'Owner':{'1st owner':0, '2nd owner':1,'3rd owner':2,'4th owner':3}},inplace=True)"
   ]
  },
  {
   "cell_type": "markdown",
   "metadata": {
    "id": "hnvNzl3zyzu-"
   },
   "source": [
    "**Define y(dependent or label or target varaible) and X(independent or features or attribute Variable)**"
   ]
  },
  {
   "cell_type": "code",
   "execution_count": 27,
   "metadata": {
    "executionInfo": {
     "elapsed": 25,
     "status": "ok",
     "timestamp": 1653829848455,
     "user": {
      "displayName": "Phasma X",
      "userId": "00537645652717338233"
     },
     "user_tz": -330
    },
    "id": "INDYGeQeywz8"
   },
   "outputs": [],
   "source": [
    "y=df['Selling_Price']"
   ]
  },
  {
   "cell_type": "code",
   "execution_count": 28,
   "metadata": {
    "colab": {
     "base_uri": "https://localhost:8080/"
    },
    "executionInfo": {
     "elapsed": 25,
     "status": "ok",
     "timestamp": 1653829848456,
     "user": {
      "displayName": "Phasma X",
      "userId": "00537645652717338233"
     },
     "user_tz": -330
    },
    "id": "FJRtW940y2im",
    "outputId": "56919a5b-9013-440b-f738-5f6d458b1205"
   },
   "outputs": [
    {
     "data": {
      "text/plain": [
       "(626,)"
      ]
     },
     "execution_count": 28,
     "metadata": {},
     "output_type": "execute_result"
    }
   ],
   "source": [
    "y.shape"
   ]
  },
  {
   "cell_type": "code",
   "execution_count": 29,
   "metadata": {
    "colab": {
     "base_uri": "https://localhost:8080/"
    },
    "executionInfo": {
     "elapsed": 20,
     "status": "ok",
     "timestamp": 1653829848456,
     "user": {
      "displayName": "Phasma X",
      "userId": "00537645652717338233"
     },
     "user_tz": -330
    },
    "id": "pHCdkP_6y4vN",
    "outputId": "23bb3610-f4e8-4914-f738-e7465706da18"
   },
   "outputs": [
    {
     "data": {
      "text/plain": [
       "0       30000\n",
       "1       18000\n",
       "2       20000\n",
       "3       25000\n",
       "4       24999\n",
       "        ...  \n",
       "621    330000\n",
       "622    300000\n",
       "623    425000\n",
       "624    760000\n",
       "625    750000\n",
       "Name: Selling_Price, Length: 626, dtype: int64"
      ]
     },
     "execution_count": 29,
     "metadata": {},
     "output_type": "execute_result"
    }
   ],
   "source": [
    "y"
   ]
  },
  {
   "cell_type": "code",
   "execution_count": 30,
   "metadata": {
    "executionInfo": {
     "elapsed": 18,
     "status": "ok",
     "timestamp": 1653829848457,
     "user": {
      "displayName": "Phasma X",
      "userId": "00537645652717338233"
     },
     "user_tz": -330
    },
    "id": "L0LFyK7Xy54u"
   },
   "outputs": [],
   "source": [
    "X=df[['Year','Seller_Type', 'Owner', 'KM_Driven', 'Ex_Showroom_Price']]"
   ]
  },
  {
   "cell_type": "code",
   "execution_count": 31,
   "metadata": {
    "colab": {
     "base_uri": "https://localhost:8080/"
    },
    "executionInfo": {
     "elapsed": 17,
     "status": "ok",
     "timestamp": 1653829848457,
     "user": {
      "displayName": "Phasma X",
      "userId": "00537645652717338233"
     },
     "user_tz": -330
    },
    "id": "K3XJci36y8DJ",
    "outputId": "9b68f425-69e8-456c-d6c4-39759feed08b"
   },
   "outputs": [
    {
     "data": {
      "text/plain": [
       "(626, 5)"
      ]
     },
     "execution_count": 31,
     "metadata": {},
     "output_type": "execute_result"
    }
   ],
   "source": [
    "X.shape"
   ]
  },
  {
   "cell_type": "code",
   "execution_count": 32,
   "metadata": {
    "colab": {
     "base_uri": "https://localhost:8080/",
     "height": 0
    },
    "executionInfo": {
     "elapsed": 16,
     "status": "ok",
     "timestamp": 1653829848458,
     "user": {
      "displayName": "Phasma X",
      "userId": "00537645652717338233"
     },
     "user_tz": -330
    },
    "id": "mv8C1oShy9om",
    "outputId": "ee64a580-d4fb-4593-8db3-31e265d426b1"
   },
   "outputs": [
    {
     "data": {
      "text/html": [
       "<div>\n",
       "<style scoped>\n",
       "    .dataframe tbody tr th:only-of-type {\n",
       "        vertical-align: middle;\n",
       "    }\n",
       "\n",
       "    .dataframe tbody tr th {\n",
       "        vertical-align: top;\n",
       "    }\n",
       "\n",
       "    .dataframe thead th {\n",
       "        text-align: right;\n",
       "    }\n",
       "</style>\n",
       "<table border=\"1\" class=\"dataframe\">\n",
       "  <thead>\n",
       "    <tr style=\"text-align: right;\">\n",
       "      <th></th>\n",
       "      <th>Year</th>\n",
       "      <th>Seller_Type</th>\n",
       "      <th>Owner</th>\n",
       "      <th>KM_Driven</th>\n",
       "      <th>Ex_Showroom_Price</th>\n",
       "    </tr>\n",
       "  </thead>\n",
       "  <tbody>\n",
       "    <tr>\n",
       "      <th>0</th>\n",
       "      <td>2017</td>\n",
       "      <td>0</td>\n",
       "      <td>0</td>\n",
       "      <td>8000</td>\n",
       "      <td>30490.0</td>\n",
       "    </tr>\n",
       "    <tr>\n",
       "      <th>1</th>\n",
       "      <td>2017</td>\n",
       "      <td>0</td>\n",
       "      <td>0</td>\n",
       "      <td>35000</td>\n",
       "      <td>32000.0</td>\n",
       "    </tr>\n",
       "    <tr>\n",
       "      <th>2</th>\n",
       "      <td>2011</td>\n",
       "      <td>0</td>\n",
       "      <td>0</td>\n",
       "      <td>10000</td>\n",
       "      <td>37675.0</td>\n",
       "    </tr>\n",
       "    <tr>\n",
       "      <th>3</th>\n",
       "      <td>2010</td>\n",
       "      <td>0</td>\n",
       "      <td>0</td>\n",
       "      <td>43000</td>\n",
       "      <td>42859.0</td>\n",
       "    </tr>\n",
       "    <tr>\n",
       "      <th>4</th>\n",
       "      <td>2012</td>\n",
       "      <td>0</td>\n",
       "      <td>1</td>\n",
       "      <td>35000</td>\n",
       "      <td>42859.0</td>\n",
       "    </tr>\n",
       "    <tr>\n",
       "      <th>...</th>\n",
       "      <td>...</td>\n",
       "      <td>...</td>\n",
       "      <td>...</td>\n",
       "      <td>...</td>\n",
       "      <td>...</td>\n",
       "    </tr>\n",
       "    <tr>\n",
       "      <th>621</th>\n",
       "      <td>2014</td>\n",
       "      <td>0</td>\n",
       "      <td>3</td>\n",
       "      <td>6500</td>\n",
       "      <td>534000.0</td>\n",
       "    </tr>\n",
       "    <tr>\n",
       "      <th>622</th>\n",
       "      <td>2011</td>\n",
       "      <td>0</td>\n",
       "      <td>0</td>\n",
       "      <td>12000</td>\n",
       "      <td>589000.0</td>\n",
       "    </tr>\n",
       "    <tr>\n",
       "      <th>623</th>\n",
       "      <td>2017</td>\n",
       "      <td>0</td>\n",
       "      <td>1</td>\n",
       "      <td>13600</td>\n",
       "      <td>599000.0</td>\n",
       "    </tr>\n",
       "    <tr>\n",
       "      <th>624</th>\n",
       "      <td>2019</td>\n",
       "      <td>0</td>\n",
       "      <td>0</td>\n",
       "      <td>2800</td>\n",
       "      <td>752020.0</td>\n",
       "    </tr>\n",
       "    <tr>\n",
       "      <th>625</th>\n",
       "      <td>2013</td>\n",
       "      <td>0</td>\n",
       "      <td>1</td>\n",
       "      <td>12000</td>\n",
       "      <td>1278000.0</td>\n",
       "    </tr>\n",
       "  </tbody>\n",
       "</table>\n",
       "<p>626 rows × 5 columns</p>\n",
       "</div>"
      ],
      "text/plain": [
       "     Year  Seller_Type  Owner  KM_Driven  Ex_Showroom_Price\n",
       "0    2017            0      0       8000            30490.0\n",
       "1    2017            0      0      35000            32000.0\n",
       "2    2011            0      0      10000            37675.0\n",
       "3    2010            0      0      43000            42859.0\n",
       "4    2012            0      1      35000            42859.0\n",
       "..    ...          ...    ...        ...                ...\n",
       "621  2014            0      3       6500           534000.0\n",
       "622  2011            0      0      12000           589000.0\n",
       "623  2017            0      1      13600           599000.0\n",
       "624  2019            0      0       2800           752020.0\n",
       "625  2013            0      1      12000          1278000.0\n",
       "\n",
       "[626 rows x 5 columns]"
      ]
     },
     "execution_count": 32,
     "metadata": {},
     "output_type": "execute_result"
    }
   ],
   "source": [
    "X"
   ]
  },
  {
   "cell_type": "markdown",
   "metadata": {
    "id": "7DBQ7c35zBIj"
   },
   "source": [
    "**Get Train Test Split**"
   ]
  },
  {
   "cell_type": "code",
   "execution_count": 33,
   "metadata": {
    "executionInfo": {
     "elapsed": 658,
     "status": "ok",
     "timestamp": 1653829849101,
     "user": {
      "displayName": "Phasma X",
      "userId": "00537645652717338233"
     },
     "user_tz": -330
    },
    "id": "GFTw4cWuy-u4"
   },
   "outputs": [],
   "source": [
    "from sklearn.model_selection import train_test_split"
   ]
  },
  {
   "cell_type": "code",
   "execution_count": 34,
   "metadata": {
    "executionInfo": {
     "elapsed": 50,
     "status": "ok",
     "timestamp": 1653829849102,
     "user": {
      "displayName": "Phasma X",
      "userId": "00537645652717338233"
     },
     "user_tz": -330
    },
    "id": "1gnHKNWnzGUO"
   },
   "outputs": [],
   "source": [
    "X_train,X_test, y_train,y_test = train_test_split(X,y,test_size =0.3, random_state =12529)"
   ]
  },
  {
   "cell_type": "code",
   "execution_count": 35,
   "metadata": {
    "colab": {
     "base_uri": "https://localhost:8080/"
    },
    "executionInfo": {
     "elapsed": 49,
     "status": "ok",
     "timestamp": 1653829849103,
     "user": {
      "displayName": "Phasma X",
      "userId": "00537645652717338233"
     },
     "user_tz": -330
    },
    "id": "068ngxPVzJp7",
    "outputId": "f815ff3e-a2d3-415e-b11c-ef758e8d8e68"
   },
   "outputs": [
    {
     "data": {
      "text/plain": [
       "((438, 5), (188, 5), (438,), (188,))"
      ]
     },
     "execution_count": 35,
     "metadata": {},
     "output_type": "execute_result"
    }
   ],
   "source": [
    "X_train.shape,X_test.shape,y_train.shape,y_test.shape"
   ]
  },
  {
   "cell_type": "markdown",
   "metadata": {
    "id": "7xx88gd9zMa8"
   },
   "source": [
    "**Get Model Train**"
   ]
  },
  {
   "cell_type": "code",
   "execution_count": 36,
   "metadata": {
    "executionInfo": {
     "elapsed": 40,
     "status": "ok",
     "timestamp": 1653829849104,
     "user": {
      "displayName": "Phasma X",
      "userId": "00537645652717338233"
     },
     "user_tz": -330
    },
    "id": "pD0tI7SezOo4"
   },
   "outputs": [],
   "source": [
    "from sklearn.linear_model import LinearRegression"
   ]
  },
  {
   "cell_type": "code",
   "execution_count": 37,
   "metadata": {
    "executionInfo": {
     "elapsed": 38,
     "status": "ok",
     "timestamp": 1653829849104,
     "user": {
      "displayName": "Phasma X",
      "userId": "00537645652717338233"
     },
     "user_tz": -330
    },
    "id": "2S6JssM4zQcL"
   },
   "outputs": [],
   "source": [
    "lr = LinearRegression()"
   ]
  },
  {
   "cell_type": "code",
   "execution_count": 38,
   "metadata": {
    "colab": {
     "base_uri": "https://localhost:8080/"
    },
    "executionInfo": {
     "elapsed": 38,
     "status": "ok",
     "timestamp": 1653829849105,
     "user": {
      "displayName": "Phasma X",
      "userId": "00537645652717338233"
     },
     "user_tz": -330
    },
    "id": "TpFNQ2XLzSRf",
    "outputId": "f5055052-0cca-4611-c21f-420350c83465"
   },
   "outputs": [
    {
     "data": {
      "text/html": [
       "<style>#sk-container-id-1 {color: black;}#sk-container-id-1 pre{padding: 0;}#sk-container-id-1 div.sk-toggleable {background-color: white;}#sk-container-id-1 label.sk-toggleable__label {cursor: pointer;display: block;width: 100%;margin-bottom: 0;padding: 0.3em;box-sizing: border-box;text-align: center;}#sk-container-id-1 label.sk-toggleable__label-arrow:before {content: \"▸\";float: left;margin-right: 0.25em;color: #696969;}#sk-container-id-1 label.sk-toggleable__label-arrow:hover:before {color: black;}#sk-container-id-1 div.sk-estimator:hover label.sk-toggleable__label-arrow:before {color: black;}#sk-container-id-1 div.sk-toggleable__content {max-height: 0;max-width: 0;overflow: hidden;text-align: left;background-color: #f0f8ff;}#sk-container-id-1 div.sk-toggleable__content pre {margin: 0.2em;color: black;border-radius: 0.25em;background-color: #f0f8ff;}#sk-container-id-1 input.sk-toggleable__control:checked~div.sk-toggleable__content {max-height: 200px;max-width: 100%;overflow: auto;}#sk-container-id-1 input.sk-toggleable__control:checked~label.sk-toggleable__label-arrow:before {content: \"▾\";}#sk-container-id-1 div.sk-estimator input.sk-toggleable__control:checked~label.sk-toggleable__label {background-color: #d4ebff;}#sk-container-id-1 div.sk-label input.sk-toggleable__control:checked~label.sk-toggleable__label {background-color: #d4ebff;}#sk-container-id-1 input.sk-hidden--visually {border: 0;clip: rect(1px 1px 1px 1px);clip: rect(1px, 1px, 1px, 1px);height: 1px;margin: -1px;overflow: hidden;padding: 0;position: absolute;width: 1px;}#sk-container-id-1 div.sk-estimator {font-family: monospace;background-color: #f0f8ff;border: 1px dotted black;border-radius: 0.25em;box-sizing: border-box;margin-bottom: 0.5em;}#sk-container-id-1 div.sk-estimator:hover {background-color: #d4ebff;}#sk-container-id-1 div.sk-parallel-item::after {content: \"\";width: 100%;border-bottom: 1px solid gray;flex-grow: 1;}#sk-container-id-1 div.sk-label:hover label.sk-toggleable__label {background-color: #d4ebff;}#sk-container-id-1 div.sk-serial::before {content: \"\";position: absolute;border-left: 1px solid gray;box-sizing: border-box;top: 0;bottom: 0;left: 50%;z-index: 0;}#sk-container-id-1 div.sk-serial {display: flex;flex-direction: column;align-items: center;background-color: white;padding-right: 0.2em;padding-left: 0.2em;position: relative;}#sk-container-id-1 div.sk-item {position: relative;z-index: 1;}#sk-container-id-1 div.sk-parallel {display: flex;align-items: stretch;justify-content: center;background-color: white;position: relative;}#sk-container-id-1 div.sk-item::before, #sk-container-id-1 div.sk-parallel-item::before {content: \"\";position: absolute;border-left: 1px solid gray;box-sizing: border-box;top: 0;bottom: 0;left: 50%;z-index: -1;}#sk-container-id-1 div.sk-parallel-item {display: flex;flex-direction: column;z-index: 1;position: relative;background-color: white;}#sk-container-id-1 div.sk-parallel-item:first-child::after {align-self: flex-end;width: 50%;}#sk-container-id-1 div.sk-parallel-item:last-child::after {align-self: flex-start;width: 50%;}#sk-container-id-1 div.sk-parallel-item:only-child::after {width: 0;}#sk-container-id-1 div.sk-dashed-wrapped {border: 1px dashed gray;margin: 0 0.4em 0.5em 0.4em;box-sizing: border-box;padding-bottom: 0.4em;background-color: white;}#sk-container-id-1 div.sk-label label {font-family: monospace;font-weight: bold;display: inline-block;line-height: 1.2em;}#sk-container-id-1 div.sk-label-container {text-align: center;}#sk-container-id-1 div.sk-container {/* jupyter's `normalize.less` sets `[hidden] { display: none; }` but bootstrap.min.css set `[hidden] { display: none !important; }` so we also need the `!important` here to be able to override the default hidden behavior on the sphinx rendered scikit-learn.org. See: https://github.com/scikit-learn/scikit-learn/issues/21755 */display: inline-block !important;position: relative;}#sk-container-id-1 div.sk-text-repr-fallback {display: none;}</style><div id=\"sk-container-id-1\" class=\"sk-top-container\"><div class=\"sk-text-repr-fallback\"><pre>LinearRegression()</pre><b>In a Jupyter environment, please rerun this cell to show the HTML representation or trust the notebook. <br />On GitHub, the HTML representation is unable to render, please try loading this page with nbviewer.org.</b></div><div class=\"sk-container\" hidden><div class=\"sk-item\"><div class=\"sk-estimator sk-toggleable\"><input class=\"sk-toggleable__control sk-hidden--visually\" id=\"sk-estimator-id-1\" type=\"checkbox\" checked><label for=\"sk-estimator-id-1\" class=\"sk-toggleable__label sk-toggleable__label-arrow\">LinearRegression</label><div class=\"sk-toggleable__content\"><pre>LinearRegression()</pre></div></div></div></div></div>"
      ],
      "text/plain": [
       "LinearRegression()"
      ]
     },
     "execution_count": 38,
     "metadata": {},
     "output_type": "execute_result"
    }
   ],
   "source": [
    "lr.fit(X_train,y_train)"
   ]
  },
  {
   "cell_type": "markdown",
   "metadata": {
    "id": "MuX-eYvhzVsW"
   },
   "source": [
    "**Get Model Prediction**"
   ]
  },
  {
   "cell_type": "code",
   "execution_count": 39,
   "metadata": {
    "executionInfo": {
     "elapsed": 31,
     "status": "ok",
     "timestamp": 1653829849105,
     "user": {
      "displayName": "Phasma X",
      "userId": "00537645652717338233"
     },
     "user_tz": -330
    },
    "id": "svsG4P17zUKl"
   },
   "outputs": [],
   "source": [
    "y_pred = lr.predict(X_test)"
   ]
  },
  {
   "cell_type": "code",
   "execution_count": 40,
   "metadata": {
    "colab": {
     "base_uri": "https://localhost:8080/"
    },
    "executionInfo": {
     "elapsed": 31,
     "status": "ok",
     "timestamp": 1653829849106,
     "user": {
      "displayName": "Phasma X",
      "userId": "00537645652717338233"
     },
     "user_tz": -330
    },
    "id": "5wx9Ex3LzZAL",
    "outputId": "2c995b77-c138-4d63-aabc-1e2fbe775ba0"
   },
   "outputs": [
    {
     "data": {
      "text/plain": [
       "(188,)"
      ]
     },
     "execution_count": 40,
     "metadata": {},
     "output_type": "execute_result"
    }
   ],
   "source": [
    "y_pred.shape"
   ]
  },
  {
   "cell_type": "code",
   "execution_count": 41,
   "metadata": {
    "colab": {
     "base_uri": "https://localhost:8080/"
    },
    "executionInfo": {
     "elapsed": 27,
     "status": "ok",
     "timestamp": 1653829849106,
     "user": {
      "displayName": "Phasma X",
      "userId": "00537645652717338233"
     },
     "user_tz": -330
    },
    "id": "ZSDkV_k0zan0",
    "outputId": "5044de5d-4a87-447a-9daf-af6d0bba60fb"
   },
   "outputs": [
    {
     "data": {
      "text/plain": [
       "array([ 52652.60893426,  39486.4167618 , 196562.43198617,  55580.5040635 ,\n",
       "        26140.72948169,  94608.16940211, 119187.31851385,  68882.36906453,\n",
       "        33660.46971135,  46944.42315337,  53461.39448296,  11010.80661857,\n",
       "        33332.52261294,  99136.85017253,  53520.69363009,  77889.92667442,\n",
       "        45898.51705691,  51568.32996296,  23936.19734584,  53169.07821728,\n",
       "        93240.71089047,   -982.05901739,  72782.26710894,  61648.18639177,\n",
       "        60975.53326567,  29005.69236301,  52733.45578051,  76744.27220676,\n",
       "        25899.12686658,  38977.38046565, 136552.2467247 ,  43207.37077006,\n",
       "        59999.1351836 , 178300.52079431,  56538.55902123,  21881.41938328,\n",
       "        39242.90242196,  32072.27344397,  54250.50343732,  39760.72648091,\n",
       "        58983.84447852,  30360.33221382,  53733.14061807,  39812.75115882,\n",
       "       135490.92768479,  44412.40326884,   7898.88343966,  52017.36847528,\n",
       "        42026.43374387, 104169.26650707,  60024.0515623 , 101703.69488341,\n",
       "        73823.40634539,   7418.5352802 ,  28994.62378808,  26468.30379681,\n",
       "        58732.87189518,  24064.07758701,  22054.26970927,  96688.09028923,\n",
       "        49059.60157508, 149306.70799839,  35995.27887147,  56235.97097099,\n",
       "       155880.34537465, 103229.27553897, 118839.81801384,  -4400.37997655,\n",
       "        29439.79781316,  70995.09147178,  30768.12967085,  56391.40902526,\n",
       "        70106.66220848,  89098.33049168, 350498.83144404,  57599.65779785,\n",
       "        61284.42259901,  51994.07673432,  52266.05783205,  40936.60780957,\n",
       "        31783.57796453,  45235.90798592,  18126.24685079,  55728.83237427,\n",
       "       123106.08328163,  36957.36642597,  54105.13423641,  53106.19984874,\n",
       "        46915.53621661,  26975.12879399,  53457.41832251,  49221.50886948,\n",
       "       405104.57629181,  26408.33619492,  35114.81521375,  36983.34162718,\n",
       "        39544.3335118 ,  22170.10320927,  66661.33393215,  65221.83868652,\n",
       "        63184.58572119,   8219.81705316,  47459.79434858,  39363.94214113,\n",
       "        53737.34611388,  44086.3085756 ,  67095.51897301,  75758.29375952,\n",
       "       132086.83399621,  68670.00764785,  22145.56947714, 115599.13224034,\n",
       "        58947.47158092, 119492.34673052,  52789.15224524,  33853.85015865,\n",
       "        24614.59975462,  41758.07556627,  54716.52808315,  61963.51345746,\n",
       "        52911.14478898,  79992.53011008,  29672.22354318,  43025.27400956,\n",
       "        42464.26648448,  60340.66312898,  57087.75135548,  55532.76882008,\n",
       "        50834.66685816,  50064.17609669,  33777.58022365,  69345.63512728,\n",
       "        29407.05857681,  63759.75033497,  65697.08116448,   6868.42621978,\n",
       "       145514.86003026,  22423.07191625,  68523.77051712, -12076.49020635,\n",
       "        41944.35163787,  70727.85652737,  50548.08989733,  52879.93137833,\n",
       "        24235.53641314,  65257.46077036,  41925.69184493,  55972.52034755,\n",
       "        22054.26970927,  55214.21373799,  16299.47773724, 103976.21067373,\n",
       "        89730.41155834,  93124.87739046,  32629.09307006,  25510.96281867,\n",
       "        47409.12768998,  32270.96436232, 144891.06315561,  24503.84743589,\n",
       "        20472.25040597,  51752.80978894,  60363.44082618,  39539.28344413,\n",
       "        75319.87432596,  30491.06261346,  13752.49475224,  22966.27623731,\n",
       "        40682.77662614,  51692.03443885,  45360.47707564,  48355.62490685,\n",
       "        16922.07641165, 160218.45492358, -13296.86796349,  38887.94367845,\n",
       "        93468.23846859,  24948.38574982,  60339.69784981,  60108.99612897,\n",
       "        52196.98997513,  64756.57564077,  25703.96236819,  88403.32949166,\n",
       "       122780.03432157, 107117.07767776,  75475.87519074,  31827.5565472 ])"
      ]
     },
     "execution_count": 41,
     "metadata": {},
     "output_type": "execute_result"
    }
   ],
   "source": [
    "y_pred"
   ]
  },
  {
   "cell_type": "markdown",
   "metadata": {
    "id": "_mxLnTkbzfLf"
   },
   "source": [
    "**Get Model Evaluation**"
   ]
  },
  {
   "cell_type": "code",
   "execution_count": 42,
   "metadata": {
    "executionInfo": {
     "elapsed": 25,
     "status": "ok",
     "timestamp": 1653829849107,
     "user": {
      "displayName": "Phasma X",
      "userId": "00537645652717338233"
     },
     "user_tz": -330
    },
    "id": "-7VZfNTszhTf"
   },
   "outputs": [],
   "source": [
    "from sklearn.metrics import mean_squared_error,mean_absolute_error,r2_score"
   ]
  },
  {
   "cell_type": "code",
   "execution_count": 43,
   "metadata": {
    "colab": {
     "base_uri": "https://localhost:8080/"
    },
    "executionInfo": {
     "elapsed": 24,
     "status": "ok",
     "timestamp": 1653829849107,
     "user": {
      "displayName": "Phasma X",
      "userId": "00537645652717338233"
     },
     "user_tz": -330
    },
    "id": "Y5iDfAQDzjGG",
    "outputId": "175097c7-0cb7-406c-d436-01d095b57980"
   },
   "outputs": [
    {
     "data": {
      "text/plain": [
       "280339916.89863944"
      ]
     },
     "execution_count": 43,
     "metadata": {},
     "output_type": "execute_result"
    }
   ],
   "source": [
    "mean_squared_error(y_test,y_pred)"
   ]
  },
  {
   "cell_type": "code",
   "execution_count": 44,
   "metadata": {
    "colab": {
     "base_uri": "https://localhost:8080/"
    },
    "executionInfo": {
     "elapsed": 19,
     "status": "ok",
     "timestamp": 1653829849108,
     "user": {
      "displayName": "Phasma X",
      "userId": "00537645652717338233"
     },
     "user_tz": -330
    },
    "id": "B5rTlIM9zmQ-",
    "outputId": "96566787-1afc-428e-8368-d6c9aac0759d"
   },
   "outputs": [
    {
     "data": {
      "text/plain": [
       "11298.505848545929"
      ]
     },
     "execution_count": 44,
     "metadata": {},
     "output_type": "execute_result"
    }
   ],
   "source": [
    "mean_absolute_error(y_test,y_pred)"
   ]
  },
  {
   "cell_type": "code",
   "execution_count": 45,
   "metadata": {
    "colab": {
     "base_uri": "https://localhost:8080/"
    },
    "executionInfo": {
     "elapsed": 16,
     "status": "ok",
     "timestamp": 1653829849108,
     "user": {
      "displayName": "Phasma X",
      "userId": "00537645652717338233"
     },
     "user_tz": -330
    },
    "id": "MdfjnEwnzoUX",
    "outputId": "fb0ecd80-ffdb-4dee-d515-0480c06bde86"
   },
   "outputs": [
    {
     "data": {
      "text/plain": [
       "0.8473238209280833"
      ]
     },
     "execution_count": 45,
     "metadata": {},
     "output_type": "execute_result"
    }
   ],
   "source": [
    "r2_score(y_test, y_pred)"
   ]
  },
  {
   "cell_type": "markdown",
   "metadata": {
    "id": "e-AqC9uBzt5Q"
   },
   "source": [
    "**Get Visualization of Actual Vs Predicted Results**"
   ]
  },
  {
   "cell_type": "code",
   "execution_count": 63,
   "metadata": {
    "colab": {
     "base_uri": "https://localhost:8080/",
     "height": 0
    },
    "executionInfo": {
     "elapsed": 702,
     "status": "ok",
     "timestamp": 1653829849797,
     "user": {
      "displayName": "Phasma X",
      "userId": "00537645652717338233"
     },
     "user_tz": -330
    },
    "id": "dbX-hJxTzr64",
    "outputId": "419ad32d-4261-4e74-b339-682d10e27264"
   },
   "outputs": [
    {
     "data": {
      "image/png": "[encoded data removed]",
      "text/plain": [
       "<Figure size 640x480 with 1 Axes>"
      ]
     },
     "metadata": {},
     "output_type": "display_data"
    }
   ],
   "source": [
    "import matplotlib.pyplot as plt\n",
    "plt.scatter(y_test,y_pred)\n",
    "plt.xlabel('Actual Prices')\n",
    "plt.ylabel('Predicted Prices')\n",
    "plt.title('Actual Price vs Predicted Price')\n",
    "plt.show()"
   ]
  },
  {
   "cell_type": "markdown",
   "metadata": {
    "id": "oNt5CnO9z0aS"
   },
   "source": [
    "**Get Future Predictions**"
   ]
  },
  {
   "cell_type": "code",
   "execution_count": 47,
   "metadata": {
    "executionInfo": {
     "elapsed": 33,
     "status": "ok",
     "timestamp": 1653829849797,
     "user": {
      "displayName": "Phasma X",
      "userId": "00537645652717338233"
     },
     "user_tz": -330
    },
    "id": "fKcXJoYQz2YL"
   },
   "outputs": [],
   "source": [
    "df_new = df.sample(1)"
   ]
  },
  {
   "cell_type": "code",
   "execution_count": 48,
   "metadata": {
    "colab": {
     "base_uri": "https://localhost:8080/",
     "height": 0
    },
    "executionInfo": {
     "elapsed": 31,
     "status": "ok",
     "timestamp": 1653829849798,
     "user": {
      "displayName": "Phasma X",
      "userId": "00537645652717338233"
     },
     "user_tz": -330
    },
    "id": "9l7A-Jzez8QU",
    "outputId": "ba68786f-8715-4497-8b71-880ba564e52e"
   },
   "outputs": [
    {
     "data": {
      "text/html": [
       "<div>\n",
       "<style scoped>\n",
       "    .dataframe tbody tr th:only-of-type {\n",
       "        vertical-align: middle;\n",
       "    }\n",
       "\n",
       "    .dataframe tbody tr th {\n",
       "        vertical-align: top;\n",
       "    }\n",
       "\n",
       "    .dataframe thead th {\n",
       "        text-align: right;\n",
       "    }\n",
       "</style>\n",
       "<table border=\"1\" class=\"dataframe\">\n",
       "  <thead>\n",
       "    <tr style=\"text-align: right;\">\n",
       "      <th></th>\n",
       "      <th>Brand</th>\n",
       "      <th>Model</th>\n",
       "      <th>Selling_Price</th>\n",
       "      <th>Year</th>\n",
       "      <th>Seller_Type</th>\n",
       "      <th>Owner</th>\n",
       "      <th>KM_Driven</th>\n",
       "      <th>Ex_Showroom_Price</th>\n",
       "    </tr>\n",
       "  </thead>\n",
       "  <tbody>\n",
       "    <tr>\n",
       "      <th>449</th>\n",
       "      <td>Bajaj</td>\n",
       "      <td>Bajaj Pulsar 180</td>\n",
       "      <td>60000</td>\n",
       "      <td>2015</td>\n",
       "      <td>0</td>\n",
       "      <td>0</td>\n",
       "      <td>28563</td>\n",
       "      <td>85011.0</td>\n",
       "    </tr>\n",
       "  </tbody>\n",
       "</table>\n",
       "</div>"
      ],
      "text/plain": [
       "     Brand             Model  Selling_Price  Year  Seller_Type  Owner  \\\n",
       "449  Bajaj  Bajaj Pulsar 180          60000  2015            0      0   \n",
       "\n",
       "     KM_Driven  Ex_Showroom_Price  \n",
       "449      28563            85011.0  "
      ]
     },
     "execution_count": 48,
     "metadata": {},
     "output_type": "execute_result"
    }
   ],
   "source": [
    "df_new"
   ]
  },
  {
   "cell_type": "code",
   "execution_count": 49,
   "metadata": {
    "colab": {
     "base_uri": "https://localhost:8080/"
    },
    "executionInfo": {
     "elapsed": 28,
     "status": "ok",
     "timestamp": 1653829849799,
     "user": {
      "displayName": "Phasma X",
      "userId": "00537645652717338233"
     },
     "user_tz": -330
    },
    "id": "1Qs5ORr30CFZ",
    "outputId": "13fe3aed-8c30-46a1-e1ae-1d8b9bbf3bf8"
   },
   "outputs": [
    {
     "data": {
      "text/plain": [
       "(1, 8)"
      ]
     },
     "execution_count": 49,
     "metadata": {},
     "output_type": "execute_result"
    }
   ],
   "source": [
    "df_new.shape"
   ]
  },
  {
   "cell_type": "code",
   "execution_count": 50,
   "metadata": {
    "executionInfo": {
     "elapsed": 21,
     "status": "ok",
     "timestamp": 1653829849799,
     "user": {
      "displayName": "Phasma X",
      "userId": "00537645652717338233"
     },
     "user_tz": -330
    },
    "id": "biKuQZwy0D8Y"
   },
   "outputs": [],
   "source": [
    "X_new = df_new.drop(['Brand', 'Model', 'Selling_Price'],axis = 1)"
   ]
  },
  {
   "cell_type": "code",
   "execution_count": 51,
   "metadata": {
    "executionInfo": {
     "elapsed": 21,
     "status": "ok",
     "timestamp": 1653829849800,
     "user": {
      "displayName": "Phasma X",
      "userId": "00537645652717338233"
     },
     "user_tz": -330
    },
    "id": "EJf58Mpx0GJr"
   },
   "outputs": [],
   "source": [
    "y_pred_new = lr.predict(X_new)"
   ]
  },
  {
   "cell_type": "code",
   "execution_count": 52,
   "metadata": {
    "colab": {
     "base_uri": "https://localhost:8080/"
    },
    "executionInfo": {
     "elapsed": 19,
     "status": "ok",
     "timestamp": 1653829849800,
     "user": {
      "displayName": "Phasma X",
      "userId": "00537645652717338233"
     },
     "user_tz": -330
    },
    "id": "YV1Q90Sf0H3u",
    "outputId": "d780e320-3340-469b-9166-6df75b9d4b63"
   },
   "outputs": [
    {
     "data": {
      "text/plain": [
       "array([60363.44082618])"
      ]
     },
     "execution_count": 52,
     "metadata": {},
     "output_type": "execute_result"
    }
   ],
   "source": [
    "y_pred_new"
   ]
  },
  {
   "cell_type": "code",
   "execution_count": 62,
   "metadata": {},
   "outputs": [],
   "source": [
    "a=np.array([[2016,1,0,30000,350000]])"
   ]
  },
  {
   "cell_type": "code",
   "execution_count": 60,
   "metadata": {},
   "outputs": [
    {
     "name": "stderr",
     "output_type": "stream",
     "text": [
      "C:\\Users\\Abhilash\\anaconda3\\Lib\\site-packages\\sklearn\\base.py:464: UserWarning: X does not have valid feature names, but LinearRegression was fitted with feature names\n",
      "  warnings.warn(\n"
     ]
    }
   ],
   "source": []
  },
  {
   "cell_type": "code",
   "execution_count": 70,
   "metadata": {},
   "outputs": [],
   "source": [
    "\n",
    "data = {\n",
    "    'Year': [2016,2017],\n",
    "    'Seller_Type': [1,0],\n",
    "    'Owner':[0,1],\n",
    "    'KM_Driven': [30000,30000],\n",
    "    'Ex_Showroom_Price':[350000,4000000]\n",
    "}\n",
    "a = pd.DataFrame(data)\n",
    "\n",
    "\n"
   ]
  },
  {
   "cell_type": "code",
   "execution_count": 71,
   "metadata": {},
   "outputs": [],
   "source": [
    "b=lr.predict(a)"
   ]
  },
  {
   "cell_type": "code",
   "execution_count": 72,
   "metadata": {},
   "outputs": [
    {
     "data": {
      "text/plain": [
       "array([ 258673.61756819, 2867212.52346758])"
      ]
     },
     "execution_count": 72,
     "metadata": {},
     "output_type": "execute_result"
    }
   ],
   "source": [
    "b"
   ]
  },
  {
   "cell_type": "code",
   "execution_count": null,
   "metadata": {},
   "outputs": [],
   "source": []
  }
 ],
 "metadata": {
  "colab": {
   "collapsed_sections": [],
   "name": "Bike_Price_Prediction.ipynb",
   "provenance": []
  },
  "interpreter": {
   "hash": "25f81d78e0f48b2a2496293255106629b10bd8698b218c28c0cc461cc09083ae"
  },
  "kernelspec": {
   "display_name": "Python 3 (ipykernel)",
   "language": "python",
   "name": "python3"
  },
  "language_info": {
   "codemirror_mode": {
    "name": "ipython",
    "version": 3
   },
   "file_extension": ".py",
   "mimetype": "text/x-python",
   "name": "python",
   "nbconvert_exporter": "python",
   "pygments_lexer": "ipython3",
   "version": "3.11.5"
  }
 },
 "nbformat": 4,
 "nbformat_minor": 1
}
